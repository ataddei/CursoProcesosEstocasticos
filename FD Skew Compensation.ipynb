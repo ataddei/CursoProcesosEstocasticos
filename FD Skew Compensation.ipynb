{
 "metadata": {
  "name": "",
  "signature": "sha256:93b809e06d63bae91cc88ff1717b23f926608aae8453042c2e2ccef224175423"
 },
 "nbformat": 3,
 "nbformat_minor": 0,
 "worksheets": [
  {
   "cells": [
    {
     "cell_type": "code",
     "collapsed": false,
     "input": [
      "import scipy.signal\n",
      "import matplotlib\n",
      "import matplotlib.pyplot as pl\n",
      "import numpy as np\n",
      "import itertools\n",
      "from commpy.filters import rrcosfilter\n",
      "import math\n",
      "import random\n"
     ],
     "language": "python",
     "metadata": {},
     "outputs": [],
     "prompt_number": 126
    },
    {
     "cell_type": "code",
     "collapsed": false,
     "input": [
      "FS=1.6\n",
      "a=rcosfilter(64,0.1,1/1e6,FS*1e6)[1]\n",
      "b=np.fft.fft(a)\n",
      "pl.plot(abs(b))\n",
      "pl.show()"
     ],
     "language": "python",
     "metadata": {},
     "outputs": [],
     "prompt_number": 100
    },
    {
     "cell_type": "code",
     "collapsed": false,
     "input": [
      "N_data = int(8192)\n",
      "BR=33e9\n",
      "analog_rate=16*BR\n",
      "fix_adc_rate=5/3*BR\n",
      "import random\n",
      "N_data = int(10*1024)\n",
      "\n",
      "def gen_data_rx(alfa=0.1):\n",
      "    data = np.array([complex(2*random.randint(0,1)-1,2*random.randint(0,1)-1) for i in xrange(N_data)])\n",
      "    data_zeros = np.zeros((N_data*16,1),dtype=complex).flatten()\n",
      "    data_zeros[1::16] = data    \n",
      "    rcos_filter = rrcosfilter(64,alfa,1/BR,16*BR)[1]\n",
      "    power_of_filter = np.sqrt(np.sum([ np.square(j) for j in rcos_filter]))\n",
      "    rcos_filter = rcos_filter/power_of_filter\n",
      "    data_interp = np.convolve(rcos_filter, data_zeros,'same')\n",
      "    return data_interp\n",
      "\n",
      "def gen_noise(SNRdb=13):\n",
      "    sigma_noise = 1/np.sqrt(10**(SNRdb/10.0))\n",
      "    noise = np.array([complex(np.random.normal(scale=sigma_noise),np.random.normal(scale=sigma_noise)) for i in xrange(N_data*16)])\n",
      "    return noise\n",
      "    \n",
      "Signal = gen_data_rx(0.1)\n",
      "Noise=gen_noise()\n",
      "pl.psd(Signal)\n",
      "#pl.psd(Noise)\n",
      "#pl.psd(np.add(Signal,Noise))\n",
      "pl.show()\n"
     ],
     "language": "python",
     "metadata": {},
     "outputs": [],
     "prompt_number": 406
    },
    {
     "cell_type": "code",
     "collapsed": false,
     "input": [
      "from fractions import Fraction\n",
      "a=Fraction(fix_adc_rate/analog_rate)\n",
      "N_proc=32\n",
      "sk_in_samples=15\n",
      "def sample_data():\n",
      "    sampled_data=scipy.signal.resample(Signal[:N_proc*8],int(N_proc*8*a))\n",
      "    skewed_data=scipy.signal.resample(Signal[sk_in_samples:N_proc*8+sk_in_samples],int(N_proc*8*a))\n",
      "    return (sampled_data,skewed_data)\n",
      "\n",
      "(sampled_data,skewed_data) = sample_data()\n",
      "pl.plot(sampled_data,'-x')\n",
      "pl.plot(skewed_data,'x-')\n",
      "\n",
      "pl.show()"
     ],
     "language": "python",
     "metadata": {},
     "outputs": [],
     "prompt_number": 483
    },
    {
     "cell_type": "code",
     "collapsed": false,
     "input": [
      "fft_size=len(sampled_data)\n",
      "def fd_compensation():\n",
      "    D=1.0*sk_in_samples/16\n",
      "    x=skewed_data\n",
      "    f=np.fft.fft(x,fft_size)\n",
      "    phases_pos = [np.exp(np.complex(0,-i*(D)*2*np.pi/fft_size)) for i in range(1,fft_size/2)]\n",
      "    phases_neg = [np.exp(np.complex(0,(fft_size-i)*(D)*2*np.pi/fft_size)) for i in range(fft_size/2+1,fft_size)]\n",
      "    phases_pos = np.append(1,phases_pos)\n",
      "    phases_neg = np.append(np.real(np.exp(np.complex(0,-(D)*np.pi))),phases_neg)\n",
      "    phases= np.append(phases_pos,phases_neg)\n",
      "    g=np.array([f[i]*phases[i] for i in range(fft_size)])\n",
      "    y=np.fft.ifft(g,fft_size)\n",
      "    return (x,y,f,g,phases)\n",
      "\n",
      "(x,y,f,g,phases)=fd_compensation()\n",
      "pl.subplot(4,1,1)\n",
      "pl.plot(x)\n",
      "pl.plot(y)\n",
      "pl.subplot(4,1,2)\n",
      "pl.plot(abs(f))\n",
      "pl.subplot(4,1,3)\n",
      "pl.plot(abs(g),'r')\n",
      "pl.subplot(4,1,4)\n",
      "pl.plot(np.abs(np.fft.fft(phases)),'g')\n",
      "\n",
      "pl.show()"
     ],
     "language": "python",
     "metadata": {},
     "outputs": [],
     "prompt_number": 484
    },
    {
     "cell_type": "code",
     "collapsed": false,
     "input": [
      "def td_compensation():\n",
      "    n_index=64\n",
      "    n_taps=6                   \n",
      "    d = sk_in_samples*4.0/n_index;\n",
      "    D = d + math.ceil(n_taps/2)-1;\n",
      "    x=skewed_data\n",
      "    taps=[]\n",
      "    for j in range(n_taps):     # // Taps Generation\n",
      "        c_double = 1.0\n",
      "        for k in range(n_taps): #// Products Generation\n",
      "            if (k!=j):\n",
      "              c_double = c_double * ((D-k)/(j-k))\n",
      "        taps.append(c_double)\n",
      "    taps.reverse()\n",
      "    y = [  sum(taps*x[i:i+6]) for i in range(fft_size-6)]\n",
      "    \n",
      "    return y\n",
      "z=td_compensation()\n",
      "\n"
     ],
     "language": "python",
     "metadata": {},
     "outputs": [],
     "prompt_number": 473
    },
    {
     "cell_type": "code",
     "collapsed": false,
     "input": [
      "fft_size"
     ],
     "language": "python",
     "metadata": {},
     "outputs": [
      {
       "metadata": {},
       "output_type": "pyout",
       "prompt_number": 466,
       "text": [
        "32"
       ]
      }
     ],
     "prompt_number": 466
    },
    {
     "cell_type": "code",
     "collapsed": false,
     "input": [
      "pl.plot(y[3:],label='compensated')\n",
      "pl.plot(z,label='compensated TD')\n",
      "pl.plot(skewed_data[3:],label='original with skew')\n",
      "pl.plot(sampled_data[3:],label='original without skew')\n",
      "pl.legend()\n",
      "pl.show()"
     ],
     "language": "python",
     "metadata": {},
     "outputs": [],
     "prompt_number": 470
    },
    {
     "cell_type": "markdown",
     "metadata": {},
     "source": [
      "Calculo de RMSD"
     ]
    },
    {
     "cell_type": "code",
     "collapsed": false,
     "input": [
      "def calc_fd_rmsd():\n",
      "    rmsd = np.sqrt(sum([  np.abs(y[i]-sampled_data[i])**2 for i in range(3,fft_size-6)])/(fft_size-9))\n",
      "    return rmsd\n",
      "def calc_td_rmsd():\n",
      "    rmsd = np.sqrt(sum([  np.abs(z[i]-sampled_data[3+i])**2 for i in range(fft_size-6-3)])/(fft_size-9))\n",
      "    return rmsd\n",
      "\n",
      "sk_in_samples=2\n",
      "(sampled_data,skewed_data) = sample_data()\n",
      "(x,y,f,g,phases)=fd_compensation()\n",
      "z=td_compensation()\n",
      "print sk_in_samples,calc_td_rmsd(),calc_fd_rmsd()\n",
      "\n",
      "sk_in_samples=8\n",
      "(sampled_data,skewed_data) = sample_data()\n",
      "(x,y,f,g,phases)=fd_compensation()\n",
      "z=td_compensation()\n",
      "print sk_in_samples,calc_td_rmsd(),calc_fd_rmsd()"
     ],
     "language": "python",
     "metadata": {},
     "outputs": [
      {
       "output_type": "stream",
       "stream": "stdout",
       "text": [
        "2 0.0400695543135 0.0279952972944\n",
        "8 0.121479202367 0.0842715125644\n"
       ]
      }
     ],
     "prompt_number": 485
    },
    {
     "cell_type": "code",
     "collapsed": false,
     "input": [],
     "language": "python",
     "metadata": {},
     "outputs": []
    }
   ],
   "metadata": {}
  }
 ]
}