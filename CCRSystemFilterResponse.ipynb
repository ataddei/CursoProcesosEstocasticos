{
 "metadata": {
  "name": "CCRSystemFilterResponse"
 },
 "nbformat": 3,
 "nbformat_minor": 0,
 "worksheets": [
  {
   "cells": [
    {
     "cell_type": "code",
     "collapsed": false,
     "input": [
      "import scipy.signal\n",
      "import matplotlib\n",
      "import matplotlib.pyplot as pl\n",
      "import numpy as np\n",
      "import itertools\n",
      "from commpy.filters import rrcosfilter\n",
      "import scipy.interpolate\n",
      "from scipy.interpolate import interp1d\n",
      "from commpy.channels import awgn\n"
     ],
     "language": "python",
     "metadata": {},
     "outputs": [],
     "prompt_number": 1
    },
    {
     "cell_type": "code",
     "collapsed": false,
     "input": [
      "BR=66e9\n",
      "analog_rate=16*BR\n",
      "fix_adc_rate=90e9\n",
      "import random\n",
      "N_data = int(4*512)\n",
      "from commpy.filters import rcosfilter\n",
      "rcos_filter = rrcosfilter(64,0.1,1/BR,16*BR)[1]\n",
      "power_of_filter = np.sqrt(np.sum([ np.square(j) for j in rcos_filter]))\n",
      "rcos_filter = rcos_filter/power_of_filter"
     ],
     "language": "python",
     "metadata": {},
     "outputs": [],
     "prompt_number": 2
    },
    {
     "cell_type": "code",
     "collapsed": false,
     "input": [
      "def offset_analog(offset,length=512):\n",
      "    complex_lo_tx=[ complex(np.cos(2*np.pi*offset*phi/analog_rate),0) for phi in xrange(length) ] # 1GHz\n",
      "    return complex_lo_tx"
     ],
     "language": "python",
     "metadata": {},
     "outputs": [],
     "prompt_number": 4
    },
    {
     "cell_type": "code",
     "collapsed": false,
     "input": [
      "w,h3 = scipy.signal.freqz"
     ],
     "language": "python",
     "metadata": {},
     "outputs": []
    },
    {
     "cell_type": "code",
     "collapsed": false,
     "input": [
      "\n",
      "8*analog_rate/2048/1e9"
     ],
     "language": "python",
     "metadata": {},
     "outputs": [
      {
       "metadata": {},
       "output_type": "pyout",
       "prompt_number": 89,
       "text": [
        "4.125"
       ]
      }
     ],
     "prompt_number": 89
    },
    {
     "cell_type": "code",
     "collapsed": false,
     "input": [
      "#f=pl.figure()\n",
      "#f.add_subplot(311)\n",
      "Hf1=np.fft.fft(rcos_filter,2048)\n",
      "afe_fc = np.linspace(19e9,45e9,4)\n",
      "offset=offset_analog(5e9,64)\n",
      "b, a = scipy.signal.butter(3, 2*45e9/analog_rate, 'low', analog=False)\n",
      "w,h3 = scipy.signal.freqz(b,a,worN=2048,whole=True)\n",
      "Hf2=np.roll(Hf1,10)\n",
      "Hf3=np.multiply(Hf2,np.conj(h3))\n",
      "Hf4=np.roll(Hf3,-10)\n",
      "Hf5=np.multiply(Hf4,np.conj(Hf1))\n",
      "#pl.plot(abs(Hf1))\n",
      "\n",
      "\n",
      "\n",
      "\n",
      "f,ax=pl.subplots(3,1,figsize=(3*8, 2*6), dpi=80, facecolor='w', edgecolor='k')\n",
      "for r in enumerate([0.1,0.2,0.5]):\n",
      "    rcos_filter = rrcosfilter(64,r[1],1/BR,16*BR)[1]\n",
      "    power_of_filter = np.sqrt(np.sum([ np.square(j) for j in rcos_filter]))\n",
      "    rcos_filter = rcos_filter/power_of_filter\n",
      "    Hf1=np.fft.fft(rcos_filter,2048)\n",
      "    psds=[]\n",
      "    for i in range(5,15):\n",
      "        Hf2=np.roll(Hf1,int(10))\n",
      "        Hf3=np.multiply(Hf2,(h3))\n",
      "        Hf4=np.roll(Hf3,-i)\n",
      "        Hf5=np.multiply(Hf4,(Hf1))\n",
      "        #pl.plot(abs(Hf4))\n",
      "        psds.append(np.sum(np.square(np.abs(Hf5))))\n",
      "    \n",
      "    ax[r[0]].plot([i*analog_rate/2048 for i in range(5,15)],(psds),'-d',label='RCOS={0}'.format(r[1]),markersize=10)\n",
      "    ax[r[0]].set_ylim(top=max(psds)*1.00193000)\n",
      "    ax[r[0]].set_ylabel(r'$\\sum|H(f)|^2$')\n",
      "    \n",
      "    ax[r[0]].grid()\n",
      "    ax[r[0]].legend(fontsize=14)\n",
      "ax[2].set_xlabel(r'$f_{RX}$[GHz]')\n",
      "ax[0].set_title(r'$f_{TX}$'+'={0:.2f}GHz'.format(analog_rate*int(10)/2048/1e9)+', AFE_FC=45GHz')\n",
      "\n",
      "\n",
      "pl.savefig('analytical2.eps')\n",
      "pl.show()"
     ],
     "language": "python",
     "metadata": {},
     "outputs": [],
     "prompt_number": 49
    },
    {
     "cell_type": "code",
     "collapsed": false,
     "input": [
      "np.multiply(complex(1,0),complex(0,1))"
     ],
     "language": "python",
     "metadata": {},
     "outputs": [
      {
       "metadata": {},
       "output_type": "pyout",
       "prompt_number": 102,
       "text": [
        "1j"
       ]
      }
     ],
     "prompt_number": 102
    }
   ],
   "metadata": {}
  }
 ]
}