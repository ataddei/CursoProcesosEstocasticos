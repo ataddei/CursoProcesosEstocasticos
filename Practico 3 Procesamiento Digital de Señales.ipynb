{
 "cells": [
  {
   "cell_type": "markdown",
   "metadata": {},
   "source": [
    "# Presentacion"
   ]
  },
  {
   "cell_type": "markdown",
   "metadata": {},
   "source": [
    "En la siguiente figura se presenta un lazo de enganche de fase (PLL) en\n",
    "tiempo discreto\n",
    "\n"
   ]
  },
  {
   "cell_type": "markdown",
   "metadata": {},
   "source": [
    "<img src=\"screenshot.png\" />"
   ]
  },
  {
   "cell_type": "markdown",
   "metadata": {},
   "source": [
    "  El error de regimen permanente se define por\n",
    "$$ε_{ss} = \\lim_{n \\to \\infty}\\ ε[n] $$\n",
    "  Utilizando el teorema del valor final (i.e., $x[∞] = \\lim_{z→1}(z − 1)X(z)$), encuentre una expresion de $ε_{ss}$ en funcion de $L(z)$ y $Θ(z)$ (suponer $ε[n]=0$, $n<0$)."
   ]
  },
  {
   "cell_type": "markdown",
   "metadata": {},
   "source": [
    "## Desarrollo"
   ]
  },
  {
   "cell_type": "markdown",
   "metadata": {},
   "source": [
    "Definimos la secuencia $$\\epsilon[n] = \\theta[n]-\\phi[n]$$\n",
    "$$ E(z) = \\Theta(z)-\\Phi(z)$$\n",
    "Sabemos que la funcion de transferencia del PLL es \n",
    "$$H(z)=\\frac{G(z)}{1+G(z)},G(z) = L(z)\\frac{z^{-1}}{1-z^{-1}}$$ y $$\\Phi(z)=E(z)L(z)\\frac{z^{-1}}{1-z^{-1}}$$\n",
    "$$ E(z) = \\Theta(z)-E(z)L(z)\\frac{z^{-1}}{1-z^{-1}}$$\n",
    "$$ E(z)\\big(1+L(z)\\frac{z^{-1}}{1-z^{-1}}\\big) = \\Theta(z)$$\n",
    "$$ E(z) = \\Theta(z)\\big(\\frac{1-z^{-1}}{1-z^{-1}+L(z)z^{-1}}\\big)$$\n",
    "Aplicamos el *Teorema del valor final*\n",
    "$$ ε_{ss} = \\lim_{z→1}(z-1)\\Theta(z)\\big(\\frac{1-z^{-1}}{1-z^{-1}+L(z)z^{-1}}\\big)$$\n",
    "$$ ε_{ss} = \\lim_{z→1}\\Theta(z)\\big(\\frac{0}{1(L(z))}\\big)=0$$\n",
    "\n",
    "\n",
    "\n",
    "\n",
    "\n",
    "\n",
    "\n",
    "\n"
   ]
  },
  {
   "cell_type": "code",
   "execution_count": null,
   "metadata": {
    "collapsed": true
   },
   "outputs": [],
   "source": []
  }
 ],
 "metadata": {
  "kernelspec": {
   "display_name": "Python 2",
   "language": "python",
   "name": "python2"
  },
  "language_info": {
   "codemirror_mode": {
    "name": "ipython",
    "version": 2
   },
   "file_extension": ".py",
   "mimetype": "text/x-python",
   "name": "python",
   "nbconvert_exporter": "python",
   "pygments_lexer": "ipython2",
   "version": "2.7.12"
  }
 },
 "nbformat": 4,
 "nbformat_minor": 1
}
