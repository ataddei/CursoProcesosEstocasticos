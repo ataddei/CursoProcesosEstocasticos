{
 "metadata": {
  "name": ""
 },
 "nbformat": 3,
 "nbformat_minor": 0,
 "worksheets": [
  {
   "cells": [
    {
     "cell_type": "heading",
     "level": 1,
     "metadata": {},
     "source": [
      "Comparacion filtro forzado a cero con filtro Wiener generado en frecuencia y filtro Wiener generado en tiempo"
     ]
    },
    {
     "cell_type": "code",
     "collapsed": false,
     "input": [
      "%matplotlib inline\n",
      "import scipy.signal\n",
      "import matplotlib\n",
      "import matplotlib.pyplot as pl\n",
      "import numpy as np\n",
      "T = 500\n",
      "Fs = 100\n",
      "Ts = 1.0/Fs\n",
      "t= [x*Ts for x in xrange(T*Fs)]"
     ],
     "language": "python",
     "metadata": {},
     "outputs": [],
     "prompt_number": 120
    },
    {
     "cell_type": "code",
     "collapsed": false,
     "input": [
      "\n",
      "N=len(t)\n",
      "Nw = 32\n",
      "np.fft\n",
      "hc = [0.22, 0.46, 0.7, 0.46, 0.22]\n",
      "K = sum([x**2 for x in hc])**0.5\n",
      "hc = [ h/K for h in hc]\n",
      "Hc= np.fft.fft(hc,512)\n",
      "import matplotlib.pyplot as pl\n",
      "#Filtro forzado a cero\n",
      "Hf = 1./Hc\n",
      "hf=np.real(np.fft.fftshift(np.fft.ifft(Hf)))\n",
      "K2 = sum([x**2 for x in hf])**0.5\n",
      "hf = [h/K2 for h in hf]\n",
      "tx_bits = [s>0.5 for s in list(np.random.rand(1,N).flatten())]\n",
      "#tx_bits = [1,0,1,1,0,1,0,0,1,1]\n",
      "tx_symb = [ 1-2*j for j in tx_bits]\n",
      "print len(tx_symb)"
     ],
     "language": "python",
     "metadata": {},
     "outputs": [
      {
       "output_type": "stream",
       "stream": "stdout",
       "text": [
        "50000\n"
       ]
      }
     ],
     "prompt_number": 3
    },
    {
     "cell_type": "markdown",
     "metadata": {},
     "source": [
      "Canal sin ruido"
     ]
    },
    {
     "cell_type": "code",
     "collapsed": false,
     "input": [
      "dx_symbs = scipy.signal.lfilter(list(hc),1.0,list(tx_symb))"
     ],
     "language": "python",
     "metadata": {},
     "outputs": [],
     "prompt_number": 4
    },
    {
     "cell_type": "code",
     "collapsed": true,
     "input": [
      "pl.plot(dx_symbs)\n",
      "pl.show()"
     ],
     "language": "python",
     "metadata": {},
     "outputs": [],
     "prompt_number": 5
    },
    {
     "cell_type": "code",
     "collapsed": false,
     "input": [
      "noise_sigma = 0.03\n",
      "noise = noise_sigma*np.random.randn(1,N)\n",
      "rx_symb= dx_symbs+noise"
     ],
     "language": "python",
     "metadata": {},
     "outputs": [],
     "prompt_number": 6
    },
    {
     "cell_type": "markdown",
     "metadata": {},
     "source": [
      "Ecualizador forzado a cero"
     ]
    },
    {
     "cell_type": "code",
     "collapsed": false,
     "input": [
      "rx_symbs_eq1 = np.convolve(list(*rx_symb),list(hf),'same')\n",
      "dx_symbs_eq1 = np.convolve(list(dx_symbs),list(hf),'same')\n",
      "noise_eq = np.convolve (list(*noise), list(hf), 'same')"
     ],
     "language": "python",
     "metadata": {},
     "outputs": [],
     "prompt_number": 7
    },
    {
     "cell_type": "markdown",
     "metadata": {},
     "source": [
      "Detector"
     ]
    },
    {
     "cell_type": "code",
     "collapsed": false,
     "input": [
      "rx_symbs_eq1_det = [int (x) for x in np.sign(rx_symbs_eq1)]\n",
      "r_tx = list(tx_symb)\n",
      "r_tx.reverse()\n",
      "print r_tx == tx_symb"
     ],
     "language": "python",
     "metadata": {},
     "outputs": [
      {
       "output_type": "stream",
       "stream": "stdout",
       "text": [
        "False\n"
       ]
      }
     ],
     "prompt_number": 8
    },
    {
     "cell_type": "code",
     "collapsed": false,
     "input": [
      "delay = [abs(i) for i in list(np.convolve(rx_symbs_eq1_det,r_tx))]"
     ],
     "language": "python",
     "metadata": {},
     "outputs": [],
     "prompt_number": 10
    },
    {
     "cell_type": "code",
     "collapsed": false,
     "input": [
      "\n",
      "offset = N- delay.index(max(delay))\n",
      "print offset\n",
      "print tx_symb[100:110]\n",
      "print rx_symbs_eq1_det[101:111]\n",
      "errors = [int(tx_symb[i]!=rx_symbs_eq1_det[i+1])for i in xrange(N-1)]\n",
      "ber=sum(errors)*1./N\n",
      "print ber"
     ],
     "language": "python",
     "metadata": {},
     "outputs": [
      {
       "output_type": "stream",
       "stream": "stdout",
       "text": [
        "0\n",
        "[-1, -1, 1, 1, -1, 1, 1, -1, -1, -1]\n",
        "[-1, -1, 1, 1, -1, 1, 1, -1, -1, -1]\n",
        "0.01478"
       ]
      },
      {
       "output_type": "stream",
       "stream": "stdout",
       "text": [
        "\n"
       ]
      }
     ],
     "prompt_number": 11
    },
    {
     "cell_type": "code",
     "collapsed": false,
     "input": [
      "\n",
      "pl.hold(True)\n",
      "pl.psd(dx_symbs)\n",
      "pl.psd(*noise)\n",
      "pl.psd(*rx_symb)\n",
      "pl.figure()\n",
      "pl.psd(rx_symbs_eq1)\n",
      "pl.psd(noise_eq)\n",
      "pl.psd(dx_symbs_eq1)\n",
      "pl.show()"
     ],
     "language": "python",
     "metadata": {},
     "outputs": [],
     "prompt_number": 12
    },
    {
     "cell_type": "markdown",
     "metadata": {},
     "source": [
      "Filtro Wiener"
     ]
    },
    {
     "cell_type": "code",
     "collapsed": true,
     "input": [
      "def wiener(hc,sigma,Nw):\n",
      "    No = sigma**2\n",
      "    Hc = np.fft.fft(hc,1024)\n",
      "    Hw= [h/(abs(h)**2 + No) for h in Hc]\n",
      "    hw=np.real(np.fft.fftshift(np.fft.ifft(Hw)))\n",
      "    \n",
      "    return hw\n",
      "    \n",
      "    "
     ],
     "language": "python",
     "metadata": {},
     "outputs": [],
     "prompt_number": 142
    },
    {
     "cell_type": "code",
     "collapsed": false,
     "input": [
      "hw = wiener(hc,noise_sigma,Nw)\n",
      "center = list(hw).index(np.max(hw))\n",
      "hw=hw[center-Nw/2:center+Nw/2]\n",
      "rx_symbs_eq2 = np.convolve(list(*rx_symb),list(hw),'same')\n",
      "dx_symbs_eq2 = np.convolve(list(dx_symbs),list(hw),'same')\n",
      "noise_eq2 = np.convolve (list(*noise), list(hw), 'same')"
     ],
     "language": "python",
     "metadata": {},
     "outputs": [],
     "prompt_number": 143
    },
    {
     "cell_type": "code",
     "collapsed": false,
     "input": [
      "print hw"
     ],
     "language": "python",
     "metadata": {},
     "outputs": []
    },
    {
     "cell_type": "code",
     "collapsed": false,
     "input": [
      "\n",
      "pl.hold(True)\n",
      "pl.psd(dx_symbs)\n",
      "pl.psd(*noise)\n",
      "\n",
      "pl.psd(*rx_symb)\n",
      "pl.figure()\n",
      "pl.psd(dx_symbs_eq2)\n",
      "pl.psd(noise_eq2)\n",
      "pl.psd(rx_symbs_eq2)\n",
      "pl.show()"
     ],
     "language": "python",
     "metadata": {},
     "outputs": [
      {
       "metadata": {},
       "output_type": "display_data",
       "png": "[encoded data removed]",
       "text": [
        "<matplotlib.figure.Figure at 0xaf2ef2ec>"
       ]
      },
      {
       "metadata": {},
       "output_type": "display_data",
       "png": "[encoded data removed]",
       "text": [
        "<matplotlib.figure.Figure at 0xaf2d1f4c>"
       ]
      }
     ],
     "prompt_number": 144
    },
    {
     "cell_type": "code",
     "collapsed": false,
     "input": [
      "rx_symbs_eq2_det = [int (x) for x in np.sign(rx_symbs_eq2)]\n",
      "delay = [abs(i) for i in list(np.convolve(rx_symbs_eq2_det,r_tx))]\n",
      "offset = N- delay.index(max(delay))\n",
      "print offset\n",
      "print tx_symb[95:105]\n",
      "print rx_symbs_eq2_det[100:110]\n",
      "errors = [int(tx_symb[i]!=rx_symbs_eq2_det[i+3])for i in xrange(N-100)]\n",
      "ber=sum(errors)*1./N\n",
      "print ber"
     ],
     "language": "python",
     "metadata": {},
     "outputs": [
      {
       "output_type": "stream",
       "stream": "stdout",
       "text": [
        "-2\n",
        "[-1, -1, 1, -1, 1, -1, -1, 1, 1, -1]\n",
        "[1, -1, 1, -1, -1, 1, 1, -1, 1, 1]\n",
        "0.0025"
       ]
      },
      {
       "output_type": "stream",
       "stream": "stdout",
       "text": [
        "\n"
       ]
      }
     ],
     "prompt_number": 145
    },
    {
     "cell_type": "markdown",
     "metadata": {},
     "source": [
      "Filtro Wiener en el tiempo"
     ]
    },
    {
     "cell_type": "code",
     "collapsed": false,
     "input": [
      "from scipy.ndimage.interpolation import shift\n",
      "def hlms (hc,sigma,Nw):\n",
      "\n",
      "    hh=np.concatenate([np.array(hc).T,np.zeros((1,Nw-1))[0]])\n",
      "    #hh=np.concatenate(np.array(hc),np.zeros((1,Nw-1)))\n",
      "    H=hh\n",
      "    for k in xrange(Nw-1):\n",
      "        H=np.vstack((H,shift(hh,k+1,cval=0)))\n",
      "    C=np.eye(Nw)*(sigma**2)\n",
      "    k = (Nw+len(hc))/2\n",
      "    uk= np.zeros((len(H[1]),1))\n",
      "    print (k)\n",
      "    uk[k]=1\n",
      "    D=np.matrix(H)*np.matrix(H).T+np.matrix(C)\n",
      "    return np.linalg.inv(D)*(np.matrix(H)*np.matrix(uk))\n",
      "\n",
      "f=hlms(hc,noise_sigma,Nw)\n",
      "f=list(*np.array(f.flatten()))\n"
     ],
     "language": "python",
     "metadata": {},
     "outputs": [
      {
       "output_type": "stream",
       "stream": "stdout",
       "text": [
        "18\n"
       ]
      }
     ],
     "prompt_number": 107
    },
    {
     "cell_type": "code",
     "collapsed": false,
     "input": [
      "rx_symbs_eq3 = np.convolve(list(*rx_symb),list(f),'same')\n",
      "dx_symbs_eq3 = np.convolve(list(dx_symbs),list(f),'same')\n",
      "noise_eq3 = np.convolve (list(*noise), list(f), 'same')"
     ],
     "language": "python",
     "metadata": {},
     "outputs": [],
     "prompt_number": 108
    },
    {
     "cell_type": "code",
     "collapsed": false,
     "input": [
      "rx_symbs_eq3_det = [int (x) for x in np.sign(rx_symbs_eq3)]\n",
      "delay = [abs(i) for i in list(np.convolve(rx_symbs_eq3_det,r_tx))]\n",
      "offset = N- delay.index(max(delay))\n",
      "print offset\n"
     ],
     "language": "python",
     "metadata": {},
     "outputs": [
      {
       "output_type": "stream",
       "stream": "stdout",
       "text": [
        "-2\n"
       ]
      }
     ],
     "prompt_number": 109
    },
    {
     "cell_type": "code",
     "collapsed": false,
     "input": [
      "print tx_symb[100:125]\n",
      "print rx_symbs_eq3_det[100:125]\n",
      "errors = [int(tx_symb[i]!=rx_symbs_eq3_det[i+3])for i in xrange(N-100)]\n",
      "ber=sum(errors)*1./N\n",
      "print ber\n",
      "\n"
     ],
     "language": "python",
     "metadata": {},
     "outputs": [
      {
       "output_type": "stream",
       "stream": "stdout",
       "text": [
        "[-1, -1, 1, 1, -1, 1, 1, -1, -1, -1, 1, -1, -1, -1, 1, -1, -1, -1, 1, 1, 1, -1, 1, 1, -1]\n",
        "[1, -1, 1, -1, -1, 1, 1, -1, 1, 1, -1, -1, -1, 1, -1, -1, -1, 1, -1, -1, -1, 1, 1, 1, -1]\n",
        "0.00128"
       ]
      },
      {
       "output_type": "stream",
       "stream": "stdout",
       "text": [
        "\n"
       ]
      }
     ],
     "prompt_number": 117
    },
    {
     "cell_type": "code",
     "collapsed": false,
     "input": [
      "pl.hold(True)\n",
      "pl.psd(dx_symbs_eq3)\n",
      "pl.psd(noise_eq3)\n",
      "pl.psd(rx_symbs_eq3)\n",
      "pl.show()"
     ],
     "language": "python",
     "metadata": {},
     "outputs": [
      {
       "metadata": {},
       "output_type": "display_data",
       "png": "[encoded data removed]",
       "text": [
        "<matplotlib.figure.Figure at 0xb020c96c>"
       ]
      }
     ],
     "prompt_number": 121
    }
   ],
   "metadata": {}
  }
 ]
}