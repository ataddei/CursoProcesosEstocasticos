{
 "metadata": {
  "name": ""
 },
 "nbformat": 3,
 "nbformat_minor": 0,
 "worksheets": [
  {
   "cells": [
    {
     "cell_type": "code",
     "collapsed": false,
     "input": [
      "import scipy.signal\n",
      "import matplotlib\n",
      "import matplotlib.pyplot as pl\n",
      "import numpy as np\n",
      "import itertools\n",
      "from commpy.filters import rrcosfilter\n",
      "import scipy.interpolate\n",
      "from scipy.interpolate import interp1d\n",
      "from commpy.channels import awgn\n"
     ],
     "language": "python",
     "metadata": {},
     "outputs": [],
     "prompt_number": 1
    },
    {
     "cell_type": "code",
     "collapsed": false,
     "input": [
      "BR=66e9\n",
      "analog_rate=16*BR\n",
      "fix_adc_rate=90e9\n",
      "import random\n",
      "N_data = int(4*512)\n",
      "from commpy.filters import rcosfilter\n",
      "rcos_filter = rrcosfilter(64,0.1,1/BR,16*BR)[1]\n",
      "power_of_filter = np.sqrt(np.sum([ np.square(j) for j in rcos_filter]))\n",
      "rcos_filter = rcos_filter/power_of_filter"
     ],
     "language": "python",
     "metadata": {},
     "outputs": [],
     "prompt_number": 99
    },
    {
     "cell_type": "code",
     "collapsed": false,
     "input": [
      "def offset_analog(offset,length=512):\n",
      "    complex_lo_tx=[ complex(np.cos(2*np.pi*offset*phi/analog_rate),0) for phi in xrange(length) ] # 1GHz\n",
      "    return complex_lo_tx"
     ],
     "language": "python",
     "metadata": {},
     "outputs": [],
     "prompt_number": 75
    },
    {
     "cell_type": "code",
     "collapsed": false,
     "input": [
      "w,h3 = scipy.signal.freqz"
     ],
     "language": "python",
     "metadata": {},
     "outputs": []
    },
    {
     "cell_type": "code",
     "collapsed": false,
     "input": [
      "\n",
      "8*analog_rate/2048/1e9"
     ],
     "language": "python",
     "metadata": {},
     "outputs": [
      {
       "metadata": {},
       "output_type": "pyout",
       "prompt_number": 89,
       "text": [
        "4.125"
       ]
      }
     ],
     "prompt_number": 89
    },
    {
     "cell_type": "code",
     "collapsed": false,
     "input": [
      "f=pl.figure()\n",
      "f.add_subplot(311)\n",
      "Hf1=np.fft.fft(rcos_filter,2048)\n",
      "offset=offset_analog(5e9,64)\n",
      "b, a = scipy.signal.butter(3, 2*30e9/analog_rate, 'low', analog=False)\n",
      "w,h3 = scipy.signal.freqz(b,a,worN=2048,whole=True)\n",
      "Hf2=np.roll(Hf1,10)\n",
      "Hf3=np.multiply(Hf2,np.conj(h3))\n",
      "Hf4=np.roll(Hf3,-10)\n",
      "Hf5=np.multiply(Hf4,np.conj(Hf1))\n",
      "pl.plot(abs(Hf1))\n",
      "pl.plot(abs(Hf2))\n",
      "pl.plot(abs(Hf3))\n",
      "pl.plot(abs(Hf4))\n",
      "pl.plot(abs(Hf5))\n",
      "\n",
      "\n",
      "\n",
      "pl.figure(figsize=(3*8, 2*6), dpi=80, facecolor='w', edgecolor='k')\n",
      "for j in np.linspace(-10,10,5):\n",
      "    psds=[]\n",
      "    for i in range(-10,11):\n",
      "        Hf2=np.roll(Hf1,int(j))\n",
      "        Hf3=np.multiply(Hf2,(h3))\n",
      "        Hf4=np.roll(Hf3,-i)\n",
      "        Hf5=np.multiply(Hf4,(Hf1))\n",
      "        #pl.plot(abs(Hf4))\n",
      "        psds.append(np.sum(np.square(np.abs(Hf5))))\n",
      "    pl.plot([i*analog_rate/2048 for i in range(-10,11)],(psds),'-d',label=r'$f_{TX}$'+'={0:.2f}GHz'.format(analog_rate*int(j)/2048/1e9))\n",
      "pl.xlabel(r'$f_{RX}$[GHz]')\n",
      "pl.ylabel(r'$\\sum|H(f)|^2$')\n",
      "pl.grid()\n",
      "pl.title('RCOS=0.1, AFE_FC=30GHz')\n",
      "pl.legend(fontsize=10)\n",
      "pl.show()\n",
      "print psds\n"
     ],
     "language": "python",
     "metadata": {},
     "outputs": [
      {
       "output_type": "stream",
       "stream": "stdout",
       "text": [
        "[27156.939088861745, 27450.812052441666, 27734.779236402657, 28007.472263512798, 28267.54539504513, 28513.686591289974, 28744.628398163764, 28959.158548648447, 29156.130169665485, 29334.471488275605, 29493.194935772353, 29631.405554252502, 29748.308617526469, 29843.216386681586, 29915.553930115391, 29964.863948282094, 29990.810554594595, 29993.181975734995, 29971.892146877497, 29926.981189840277, 29858.614774775513]\n"
       ]
      }
     ],
     "prompt_number": 145
    },
    {
     "cell_type": "code",
     "collapsed": false,
     "input": [
      "np.multiply(complex(1,0),complex(0,1))"
     ],
     "language": "python",
     "metadata": {},
     "outputs": [
      {
       "metadata": {},
       "output_type": "pyout",
       "prompt_number": 102,
       "text": [
        "1j"
       ]
      }
     ],
     "prompt_number": 102
    }
   ],
   "metadata": {}
  }
 ]
}