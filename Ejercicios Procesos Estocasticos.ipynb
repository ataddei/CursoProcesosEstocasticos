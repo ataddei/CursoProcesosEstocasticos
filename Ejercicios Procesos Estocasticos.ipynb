{
 "metadata": {
  "name": "Ejercicios Procesos Estocasticos"
 },
 "nbformat": 3,
 "nbformat_minor": 0,
 "worksheets": [
  {
   "cells": [
    {
     "cell_type": "heading",
     "level": 1,
     "metadata": {},
     "source": [
      "Ejercicios Curso de Procesos Estocasticos"
     ]
    },
    {
     "cell_type": "raw",
     "metadata": {},
     "source": [
      "Seis personas dejan sus respectivos sombreros sobre una mesa. Mas\n",
      "tarde, cada uno agarra un sombrero al azar. Cual es la probabilidad de\n",
      "que ninguno agarre su propio sombrero? (resp.: 265=720)\n"
     ]
    },
    {
     "cell_type": "code",
     "collapsed": false,
     "input": [
      "n=6\n"
     ],
     "language": "python",
     "metadata": {},
     "outputs": [],
     "prompt_number": 2
    },
    {
     "cell_type": "code",
     "collapsed": false,
     "input": [
      "hats=[i for i in range(n)]\n",
      "print hats\n"
     ],
     "language": "python",
     "metadata": {},
     "outputs": [
      {
       "output_type": "stream",
       "stream": "stdout",
       "text": [
        "[0, 1, 2, 3, 4, 5]\n"
       ]
      }
     ],
     "prompt_number": 3
    },
    {
     "cell_type": "code",
     "collapsed": false,
     "input": [
      "import numpy as np\n",
      "np.random.shuffle(hats)\n",
      "print hats"
     ],
     "language": "python",
     "metadata": {},
     "outputs": [
      {
       "output_type": "stream",
       "stream": "stdout",
       "text": [
        "[3, 0, 4, 5, 2, 1]\n"
       ]
      }
     ],
     "prompt_number": 4
    },
    {
     "cell_type": "code",
     "collapsed": false,
     "input": [
      "import math\n",
      "success=0\n",
      "fails=0\n",
      "tests=1000\n",
      "for i in range(tests):\n",
      "    np.random.shuffle(hats)\n",
      "    test=[a==hats[a] for a in range(len(hats))]\n",
      "    if (True in test):\n",
      "        fails+=1 \n",
      "    else:\n",
      "        success +=1\n",
      "print \"Probabilidad que nadie toma su sombrero:\",float(success)/tests\n",
      "print \"Teorica 265/720:\", 265./720\n",
      "math.factorial(6)"
     ],
     "language": "python",
     "metadata": {},
     "outputs": [
      {
       "output_type": "stream",
       "stream": "stdout",
       "text": [
        "Probabilidad que nadie toma su sombrero: 0.384\n",
        "Teorica 265/720: 0.368055555556\n"
       ]
      },
      {
       "output_type": "pyout",
       "prompt_number": 5,
       "text": [
        "720"
       ]
      }
     ],
     "prompt_number": 5
    },
    {
     "cell_type": "heading",
     "level": 1,
     "metadata": {},
     "source": [
      "Ejercicios clase 1"
     ]
    },
    {
     "cell_type": "heading",
     "level": 2,
     "metadata": {},
     "source": [
      "Ejercicio 1\n"
     ]
    },
    {
     "cell_type": "raw",
     "metadata": {},
     "source": [
      "Cuantas personas son necesarias para que sea mayor que 1/2 la probabilidad de que\n",
      "al menos dos personas de N, que se encuentran en una habitacion, cumplan a\u00f1os el\n",
      "mismo d\u0131a?\n",
      "Resp.: 23 personas"
     ]
    },
    {
     "cell_type": "code",
     "collapsed": false,
     "input": [
      "from IPython.display import Math\n",
      "print 'Buscamos las variaciones de grupos de n personas en 365 dias'\n",
      "Math(r'\\left(\\begin{array}{c} 365 \\\\ n \\end{array}   \\right) = \\frac{365!}{(365-n)!}')\n"
     ],
     "language": "python",
     "metadata": {},
     "outputs": [
      {
       "output_type": "stream",
       "stream": "stdout",
       "text": [
        "Buscamos las variaciones de grupos de n personas en 365 dias\n"
       ]
      },
      {
       "latex": [
        "$$\\left(\\begin{array}{c} 365 \\\\ n \\end{array}   \\right) = \\frac{365!}{(365-n)!}$$"
       ],
       "output_type": "pyout",
       "prompt_number": 6,
       "text": [
        "<IPython.core.display.Math at 0xa653eec>"
       ]
      }
     ],
     "prompt_number": 6
    },
    {
     "cell_type": "code",
     "collapsed": false,
     "input": [
      "print 'y calculamos la probabilidad de que todos tengan un cumplea\u00f1os diferente dividiendo por la cantidad de variaciones posibles de n personas'\n",
      "Math(r'365^n')"
     ],
     "language": "python",
     "metadata": {},
     "outputs": [
      {
       "output_type": "stream",
       "stream": "stdout",
       "text": [
        "y calculamos la probabilidad de que todos tengan un cumplea\u00f1os diferente dividiendo por la cantidad de variaciones posibles de n personas\n"
       ]
      },
      {
       "latex": [
        "$$365^n$$"
       ],
       "output_type": "pyout",
       "prompt_number": 7,
       "text": [
        "<IPython.core.display.Math at 0xa65b1ec>"
       ]
      }
     ],
     "prompt_number": 7
    },
    {
     "cell_type": "raw",
     "metadata": {},
     "source": [
      "Definimos la funcion que calcula la probabilidad de match de un subgrupo en un total de casos y ejecutamos un barrido hasta encontrar probabilidad 0.5"
     ]
    },
    {
     "cell_type": "code",
     "collapsed": false,
     "input": [
      "from decimal import Decimal\n",
      "def probability_match(total_cases=365,subgroup_size=10):\n",
      "    probability = Decimal(math.factorial(total_cases))/Decimal(math.factorial(total_cases-subgroup_size)*(total_cases**subgroup_size))\n",
      "    return float(Decimal(1.)-probability)"
     ],
     "language": "python",
     "metadata": {},
     "outputs": [],
     "prompt_number": 16
    },
    {
     "cell_type": "code",
     "collapsed": false,
     "input": [
      "prob=[]\n",
      "try:\n",
      "    prob=[ probability_match(total_cases=365,subgroup_size=i) for i in range(30)]\n",
      "except:\n",
      "    print \"No se pudo calcular\"\n",
      "    prob.append(0.0)\n"
     ],
     "language": "python",
     "metadata": {},
     "outputs": [
      {
       "output_type": "stream",
       "stream": "stdout",
       "text": [
        "No se pudo calcular\n"
       ]
      }
     ],
     "prompt_number": 14
    },
    {
     "cell_type": "code",
     "collapsed": false,
     "input": [
      "prob=[ probability_match(total_cases=365,subgroup_size=i) for i in range(30)]"
     ],
     "language": "python",
     "metadata": {},
     "outputs": [],
     "prompt_number": 17
    },
    {
     "cell_type": "code",
     "collapsed": false,
     "input": [
      "['{:+f}'.format(i) for i in prob ]"
     ],
     "language": "python",
     "metadata": {},
     "outputs": [
      {
       "output_type": "pyout",
       "prompt_number": 18,
       "text": [
        "['+0.000000',\n",
        " '+0.000000',\n",
        " '+0.002740',\n",
        " '+0.008204',\n",
        " '+0.016356',\n",
        " '+0.027136',\n",
        " '+0.040462',\n",
        " '+0.056236',\n",
        " '+0.074335',\n",
        " '+0.094624',\n",
        " '+0.116948',\n",
        " '+0.141141',\n",
        " '+0.167025',\n",
        " '+0.194410',\n",
        " '+0.223103',\n",
        " '+0.252901',\n",
        " '+0.283604',\n",
        " '+0.315008',\n",
        " '+0.346911',\n",
        " '+0.379119',\n",
        " '+0.411438',\n",
        " '+0.443688',\n",
        " '+0.475695',\n",
        " '+0.507297',\n",
        " '+0.538344',\n",
        " '+0.568700',\n",
        " '+0.598241',\n",
        " '+0.626859',\n",
        " '+0.654461',\n",
        " '+0.680969']"
       ]
      }
     ],
     "prompt_number": 18
    },
    {
     "cell_type": "raw",
     "metadata": {},
     "source": [
      "El calculo arroja error porque python no puede convertir un entero tan grande en float al hacer 365! para dividir por otro entero. Llevo el calculo a wolfram alpha http://www.wolframalpha.com/input/?i=365!%2F%28365-n%29!%2F365^n+%3D+0.5 y nos da n=23 personas"
     ]
    },
    {
     "cell_type": "heading",
     "level": 2,
     "metadata": {},
     "source": [
      "Ejercicio 2"
     ]
    },
    {
     "cell_type": "raw",
     "metadata": {},
     "source": [
      "Se busca un paraguas que, con probabilidad p=7, se encuentra en cualquiera de los\n",
      "siete pisos de un inmueble. Se han explorado en vano los seis primeros pisos. Cual es\n",
      "la probabilidad de que el paraguas se encuentre en el septimo piso?\n",
      "Resp.:p/(7-6p)\n"
     ]
    }
   ],
   "metadata": {}
  }
 ]
}