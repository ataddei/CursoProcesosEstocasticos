{
 "metadata": {
  "name": ""
 },
 "nbformat": 3,
 "nbformat_minor": 0,
 "worksheets": [
  {
   "cells": [
    {
     "cell_type": "heading",
     "level": 1,
     "metadata": {},
     "source": [
      "Ejercicios Curso de Procesos Estocasticos"
     ]
    },
    {
     "cell_type": "raw",
     "metadata": {},
     "source": [
      "Seis personas dejan sus respectivos sombreros sobre una mesa. Mas\n",
      "tarde, cada uno agarra un sombrero al azar. Cual es la probabilidad de\n",
      "que ninguno agarre su propio sombrero? (resp.: 265=720)\n"
     ]
    },
    {
     "cell_type": "code",
     "collapsed": false,
     "input": [
      "n=6\n"
     ],
     "language": "python",
     "metadata": {},
     "outputs": [],
     "prompt_number": 1
    },
    {
     "cell_type": "code",
     "collapsed": false,
     "input": [
      "hats=[i for i in range(n)]\n",
      "print hats\n"
     ],
     "language": "python",
     "metadata": {},
     "outputs": [
      {
       "output_type": "stream",
       "stream": "stdout",
       "text": [
        "[0, 1, 2, 3, 4, 5]\n"
       ]
      }
     ],
     "prompt_number": 2
    },
    {
     "cell_type": "code",
     "collapsed": false,
     "input": [
      "import numpy as np\n",
      "np.random.shuffle(hats)\n",
      "print hats"
     ],
     "language": "python",
     "metadata": {},
     "outputs": [
      {
       "output_type": "stream",
       "stream": "stdout",
       "text": [
        "[0, 3, 5, 4, 1, 2]\n"
       ]
      }
     ],
     "prompt_number": 3
    },
    {
     "cell_type": "code",
     "collapsed": false,
     "input": [
      "import math\n",
      "success=0\n",
      "fails=0\n",
      "tests=1000\n",
      "for i in range(tests):\n",
      "    np.random.shuffle(hats)\n",
      "    test=[a==hats[a] for a in range(len(hats))]\n",
      "    if (True in test):\n",
      "        fails+=1 \n",
      "    else:\n",
      "        success +=1\n",
      "print \"Probabilidad que nadie toma su sombrero:\",float(success)/tests\n",
      "print \"Teorica 265/720:\", 265./720\n",
      "math.factorial(6)"
     ],
     "language": "python",
     "metadata": {},
     "outputs": [
      {
       "output_type": "stream",
       "stream": "stdout",
       "text": [
        "Probabilidad que nadie toma su sombrero: 0.365\n",
        "Teorica 265/720: 0.368055555556\n"
       ]
      },
      {
       "metadata": {},
       "output_type": "pyout",
       "prompt_number": 4,
       "text": [
        "720"
       ]
      }
     ],
     "prompt_number": 4
    },
    {
     "cell_type": "heading",
     "level": 1,
     "metadata": {},
     "source": [
      "Ejercicios clase 1"
     ]
    },
    {
     "cell_type": "heading",
     "level": 2,
     "metadata": {},
     "source": [
      "Ejercicio 1\n"
     ]
    },
    {
     "cell_type": "raw",
     "metadata": {},
     "source": [
      "Cuantas personas son necesarias para que sea mayor que 1/2 la probabilidad de que\n",
      "al menos dos personas de N, que se encuentran en una habitacion, cumplan a\u00f1os el\n",
      "mismo d\u0131a?\n",
      "Resp.: 23 personas"
     ]
    },
    {
     "cell_type": "code",
     "collapsed": false,
     "input": [
      "from IPython.display import Math\n",
      "print 'Buscamos las variaciones de grupos de n personas en 365 dias'\n",
      "Math(r'\\left(\\begin{array}{c} 365 \\\\ n \\end{array}   \\right) = \\frac{365!}{(365-n)!}')\n"
     ],
     "language": "python",
     "metadata": {},
     "outputs": [
      {
       "output_type": "stream",
       "stream": "stdout",
       "text": [
        "Buscamos las variaciones de grupos de n personas en 365 dias\n"
       ]
      },
      {
       "latex": [
        "$$\\left(\\begin{array}{c} 365 \\\\ n \\end{array}   \\right) = \\frac{365!}{(365-n)!}$$"
       ],
       "metadata": {},
       "output_type": "pyout",
       "prompt_number": 5,
       "text": [
        "<IPython.core.display.Math at 0xb1dd262c>"
       ]
      }
     ],
     "prompt_number": 5
    },
    {
     "cell_type": "code",
     "collapsed": false,
     "input": [
      "print 'y calculamos la probabilidad de que todos tengan un cumplea\u00f1os diferente dividiendo por la cantidad de variaciones posibles de n personas'\n",
      "Math(r'365^n')"
     ],
     "language": "python",
     "metadata": {},
     "outputs": [
      {
       "output_type": "stream",
       "stream": "stdout",
       "text": [
        "y calculamos la probabilidad de que todos tengan un cumplea\u00f1os diferente dividiendo por la cantidad de variaciones posibles de n personas\n"
       ]
      },
      {
       "latex": [
        "$$365^n$$"
       ],
       "metadata": {},
       "output_type": "pyout",
       "prompt_number": 6,
       "text": [
        "<IPython.core.display.Math at 0xb1dd274c>"
       ]
      }
     ],
     "prompt_number": 6
    },
    {
     "cell_type": "raw",
     "metadata": {},
     "source": [
      "Definimos la funcion que calcula la probabilidad de match de un subgrupo en un total de casos y ejecutamos un barrido hasta encontrar probabilidad 0.5"
     ]
    },
    {
     "cell_type": "code",
     "collapsed": false,
     "input": [
      "from decimal import Decimal\n",
      "def probability_match(total_cases=365,subgroup_size=10):\n",
      "    probability = Decimal(math.factorial(total_cases))/Decimal(math.factorial(total_cases-subgroup_size)*(total_cases**subgroup_size))\n",
      "    return float(Decimal(1.)-probability)"
     ],
     "language": "python",
     "metadata": {},
     "outputs": [],
     "prompt_number": 7
    },
    {
     "cell_type": "code",
     "collapsed": false,
     "input": [
      "prob=[]\n",
      "try:\n",
      "    prob=[ probability_match(total_cases=365,subgroup_size=i) for i in range(30)]\n",
      "except:\n",
      "    print \"No se pudo calcular\"\n",
      "    prob.append(0.0)\n"
     ],
     "language": "python",
     "metadata": {},
     "outputs": [],
     "prompt_number": 8
    },
    {
     "cell_type": "code",
     "collapsed": false,
     "input": [
      "['{:+f}'.format(i) for i in prob ]\n",
      "a=min(prob, key=lambda x:abs(x-0.5))\n",
      "print \"Resultado: \",prob.index(a)"
     ],
     "language": "python",
     "metadata": {},
     "outputs": [
      {
       "output_type": "stream",
       "stream": "stdout",
       "text": [
        "Resultado:  23\n"
       ]
      }
     ],
     "prompt_number": 9
    },
    {
     "cell_type": "heading",
     "level": 2,
     "metadata": {},
     "source": [
      "Ejercicio 2"
     ]
    },
    {
     "cell_type": "raw",
     "metadata": {},
     "source": [
      "Se busca un paraguas que, con probabilidad p=7, se encuentra en cualquiera de los\n",
      "siete pisos de un inmueble. Se han explorado en vano los seis primeros pisos. Cual es\n",
      "la probabilidad de que el paraguas se encuentre en el septimo piso?\n",
      "Resp.:p/(7-6p)\n"
     ]
    },
    {
     "cell_type": "code",
     "collapsed": false,
     "input": [],
     "language": "python",
     "metadata": {},
     "outputs": []
    },
    {
     "cell_type": "heading",
     "level": 2,
     "metadata": {},
     "source": [
      "Ejercicio 6"
     ]
    },
    {
     "cell_type": "raw",
     "metadata": {},
     "source": [
      "Disponemos de una urna infinitamente grande y de una colecci\u00f3n infinita de bolas\n",
      "numeradas. Procedemos a depositar las bolas en la urna de tres formas distintas.\n",
      "1.\n",
      "  A las 5 de la tarde menos 1 minuto introducimos las 10 primeras extrayendo la\n",
      "que lleva el n\u00famero 10 (supongamos que la introducci\u00f3n y la sucesiva extracci\u00f3n\n",
      "consumen un tiempo 0). A las 5 menos 1/2 minuto depositamos las 10 bolas\n",
      "siguientes y extraemos la que lleva el n\u00famero 20. A las 5 menos 1/4 de minuto\n",
      "las 10 siguientes extrayendo a continuaci\u00f3n la que lleva el n\u00famero 30. Y as\u00ed\u2019\n",
      "sucesivamente.\n",
      "2.  El segundo procedimiento es an\u00e1logo al anterior, pero las bolas que se extraen\n",
      "en cada ocasi\u00f3n son las numeradas 1;2;3\n",
      "3.\n",
      "  En el tercer procedimiento las bolas se introducen como en los dos anteriores\n",
      "pero en cada decena la extracci\u00f3n se efectua al azar (de entre todas las bolas de\n",
      "la urna).\n",
      "Cuantas bolas habr\u00eda en la urna a las 5 de la tarde seg\u00fan el procedimiento empleado?"
     ]
    },
    {
     "cell_type": "code",
     "collapsed": false,
     "input": [
      "def cantidadDeBolas (ejecuciones=1):\n",
      "    '''Funcion que calcula la cantidad de bolas numeradas en la urna segun el numero de ejecuciones'''\n",
      "    urna=[]\n",
      "    for i in range(ejecuciones):\n",
      "        agregarQuitarBolas(urna,i+1)\n",
      "    return (urna)\n",
      "def agregarQuitarBolasA (urna,i):\n",
      "    start=(i-1)*10+1\n",
      "    urna.extend(range(start,start+9))\n",
      "def agregarQuitarBolasB (urna,i):\n",
      "    start=(i-1)*10+1\n",
      "    urna.extend(range(start,start+10))\n",
      "    urna.remove(i)\n",
      "\n",
      "\n",
      "\n",
      "print urna"
     ],
     "language": "python",
     "metadata": {},
     "outputs": [
      {
       "output_type": "stream",
       "stream": "stdout",
       "text": [
        "[3, 4, 5, 6, 7, 8, 9, 10, 11, 12, 13, 14, 15, 16, 17, 18, 19, 20]\n"
       ]
      }
     ],
     "prompt_number": 40
    },
    {
     "cell_type": "code",
     "collapsed": false,
     "input": [
      "import matplotlib.pyplot as plt\n",
      "agregarQuitarBolas=agregarQuitarBolasA\n",
      "\n",
      "timeA=[]\n",
      "sizeA=[]\n",
      "for i in range(1,400):\n",
      "    timeA.append(5-1.0/(2*i))\n",
      "    sizeA.append(len(cantidadDeBolas(i+1)))\n",
      "plt.plot(timeA,sizeA)\n",
      "plt.hold()\n",
      "agregarQuitarBolas=agregarQuitarBolasB\n",
      "urna=cantidadDeBolas(2)\n",
      "timeB=[]\n",
      "sizeB=[]\n",
      "for i in range(1,400):\n",
      "    timeB.append(5-1.0/(2*i))\n",
      "    sizeB.append(len(cantidadDeBolas(i+1)))\n",
      "plt.plot(timeB,sizeB)\n",
      "plt.show()\n"
     ],
     "language": "python",
     "metadata": {},
     "outputs": [
      {
       "ename": "KeyboardInterrupt",
       "evalue": "",
       "output_type": "pyerr",
       "traceback": [
        "\u001b[0;31m---------------------------------------------------------------------------\u001b[0m\n\u001b[0;31mKeyboardInterrupt\u001b[0m                         Traceback (most recent call last)",
        "\u001b[0;32m<ipython-input-46-db9401f67a8c>\u001b[0m in \u001b[0;36m<module>\u001b[0;34m()\u001b[0m\n\u001b[1;32m      6\u001b[0m \u001b[0;32mfor\u001b[0m \u001b[0mi\u001b[0m \u001b[0;32min\u001b[0m \u001b[0mrange\u001b[0m\u001b[0;34m(\u001b[0m\u001b[0;36m1\u001b[0m\u001b[0;34m,\u001b[0m\u001b[0;36m40000\u001b[0m\u001b[0;34m)\u001b[0m\u001b[0;34m:\u001b[0m\u001b[0;34m\u001b[0m\u001b[0m\n\u001b[1;32m      7\u001b[0m     \u001b[0mtimeA\u001b[0m\u001b[0;34m.\u001b[0m\u001b[0mappend\u001b[0m\u001b[0;34m(\u001b[0m\u001b[0;36m5\u001b[0m\u001b[0;34m-\u001b[0m\u001b[0;36m1.0\u001b[0m\u001b[0;34m/\u001b[0m\u001b[0;34m(\u001b[0m\u001b[0;36m2\u001b[0m\u001b[0;34m*\u001b[0m\u001b[0mi\u001b[0m\u001b[0;34m)\u001b[0m\u001b[0;34m)\u001b[0m\u001b[0;34m\u001b[0m\u001b[0m\n\u001b[0;32m----> 8\u001b[0;31m     \u001b[0msizeA\u001b[0m\u001b[0;34m.\u001b[0m\u001b[0mappend\u001b[0m\u001b[0;34m(\u001b[0m\u001b[0mlen\u001b[0m\u001b[0;34m(\u001b[0m\u001b[0mcantidadDeBolas\u001b[0m\u001b[0;34m(\u001b[0m\u001b[0mi\u001b[0m\u001b[0;34m+\u001b[0m\u001b[0;36m1\u001b[0m\u001b[0;34m)\u001b[0m\u001b[0;34m)\u001b[0m\u001b[0;34m)\u001b[0m\u001b[0;34m\u001b[0m\u001b[0m\n\u001b[0m\u001b[1;32m      9\u001b[0m \u001b[0mplt\u001b[0m\u001b[0;34m.\u001b[0m\u001b[0mplot\u001b[0m\u001b[0;34m(\u001b[0m\u001b[0mtimeA\u001b[0m\u001b[0;34m,\u001b[0m\u001b[0msizeA\u001b[0m\u001b[0;34m)\u001b[0m\u001b[0;34m\u001b[0m\u001b[0m\n\u001b[1;32m     10\u001b[0m \u001b[0mplt\u001b[0m\u001b[0;34m.\u001b[0m\u001b[0mhold\u001b[0m\u001b[0;34m(\u001b[0m\u001b[0;34m)\u001b[0m\u001b[0;34m\u001b[0m\u001b[0m\n",
        "\u001b[0;32m<ipython-input-40-4f5294d136fb>\u001b[0m in \u001b[0;36mcantidadDeBolas\u001b[0;34m(ejecuciones)\u001b[0m\n\u001b[1;32m      3\u001b[0m     \u001b[0murna\u001b[0m\u001b[0;34m=\u001b[0m\u001b[0;34m[\u001b[0m\u001b[0;34m]\u001b[0m\u001b[0;34m\u001b[0m\u001b[0m\n\u001b[1;32m      4\u001b[0m     \u001b[0;32mfor\u001b[0m \u001b[0mi\u001b[0m \u001b[0;32min\u001b[0m \u001b[0mrange\u001b[0m\u001b[0;34m(\u001b[0m\u001b[0mejecuciones\u001b[0m\u001b[0;34m)\u001b[0m\u001b[0;34m:\u001b[0m\u001b[0;34m\u001b[0m\u001b[0m\n\u001b[0;32m----> 5\u001b[0;31m         \u001b[0magregarQuitarBolas\u001b[0m\u001b[0;34m(\u001b[0m\u001b[0murna\u001b[0m\u001b[0;34m,\u001b[0m\u001b[0mi\u001b[0m\u001b[0;34m+\u001b[0m\u001b[0;36m1\u001b[0m\u001b[0;34m)\u001b[0m\u001b[0;34m\u001b[0m\u001b[0m\n\u001b[0m\u001b[1;32m      6\u001b[0m     \u001b[0;32mreturn\u001b[0m \u001b[0;34m(\u001b[0m\u001b[0murna\u001b[0m\u001b[0;34m)\u001b[0m\u001b[0;34m\u001b[0m\u001b[0m\n\u001b[1;32m      7\u001b[0m \u001b[0;32mdef\u001b[0m \u001b[0magregarQuitarBolasA\u001b[0m \u001b[0;34m(\u001b[0m\u001b[0murna\u001b[0m\u001b[0;34m,\u001b[0m\u001b[0mi\u001b[0m\u001b[0;34m)\u001b[0m\u001b[0;34m:\u001b[0m\u001b[0;34m\u001b[0m\u001b[0m\n",
        "\u001b[0;32m<ipython-input-40-4f5294d136fb>\u001b[0m in \u001b[0;36magregarQuitarBolasA\u001b[0;34m(urna, i)\u001b[0m\n\u001b[1;32m      7\u001b[0m \u001b[0;32mdef\u001b[0m \u001b[0magregarQuitarBolasA\u001b[0m \u001b[0;34m(\u001b[0m\u001b[0murna\u001b[0m\u001b[0;34m,\u001b[0m\u001b[0mi\u001b[0m\u001b[0;34m)\u001b[0m\u001b[0;34m:\u001b[0m\u001b[0;34m\u001b[0m\u001b[0m\n\u001b[1;32m      8\u001b[0m     \u001b[0mstart\u001b[0m\u001b[0;34m=\u001b[0m\u001b[0;34m(\u001b[0m\u001b[0mi\u001b[0m\u001b[0;34m-\u001b[0m\u001b[0;36m1\u001b[0m\u001b[0;34m)\u001b[0m\u001b[0;34m*\u001b[0m\u001b[0;36m10\u001b[0m\u001b[0;34m+\u001b[0m\u001b[0;36m1\u001b[0m\u001b[0;34m\u001b[0m\u001b[0m\n\u001b[0;32m----> 9\u001b[0;31m     \u001b[0murna\u001b[0m\u001b[0;34m.\u001b[0m\u001b[0mextend\u001b[0m\u001b[0;34m(\u001b[0m\u001b[0mrange\u001b[0m\u001b[0;34m(\u001b[0m\u001b[0mstart\u001b[0m\u001b[0;34m,\u001b[0m\u001b[0mstart\u001b[0m\u001b[0;34m+\u001b[0m\u001b[0;36m9\u001b[0m\u001b[0;34m)\u001b[0m\u001b[0;34m)\u001b[0m\u001b[0;34m\u001b[0m\u001b[0m\n\u001b[0m\u001b[1;32m     10\u001b[0m \u001b[0;32mdef\u001b[0m \u001b[0magregarQuitarBolasB\u001b[0m \u001b[0;34m(\u001b[0m\u001b[0murna\u001b[0m\u001b[0;34m,\u001b[0m\u001b[0mi\u001b[0m\u001b[0;34m)\u001b[0m\u001b[0;34m:\u001b[0m\u001b[0;34m\u001b[0m\u001b[0m\n\u001b[1;32m     11\u001b[0m     \u001b[0mstart\u001b[0m\u001b[0;34m=\u001b[0m\u001b[0;34m(\u001b[0m\u001b[0mi\u001b[0m\u001b[0;34m-\u001b[0m\u001b[0;36m1\u001b[0m\u001b[0;34m)\u001b[0m\u001b[0;34m*\u001b[0m\u001b[0;36m10\u001b[0m\u001b[0;34m+\u001b[0m\u001b[0;36m1\u001b[0m\u001b[0;34m\u001b[0m\u001b[0m\n",
        "\u001b[0;31mKeyboardInterrupt\u001b[0m: "
       ]
      }
     ]
    },
    {
     "cell_type": "code",
     "collapsed": false,
     "input": [
      "(Decimal(1)/Decimal(2**36)**(10**11))"
     ],
     "language": "python",
     "metadata": {},
     "outputs": [
      {
       "ename": "Overflow",
       "evalue": "above Emax",
       "output_type": "pyerr",
       "traceback": [
        "\u001b[0;31m---------------------------------------------------------------------------\u001b[0m\n\u001b[0;31mOverflow\u001b[0m                                  Traceback (most recent call last)",
        "\u001b[0;32m<ipython-input-56-82c86ea5a737>\u001b[0m in \u001b[0;36m<module>\u001b[0;34m()\u001b[0m\n\u001b[0;32m----> 1\u001b[0;31m \u001b[0;34m(\u001b[0m\u001b[0mDecimal\u001b[0m\u001b[0;34m(\u001b[0m\u001b[0;36m1\u001b[0m\u001b[0;34m)\u001b[0m\u001b[0;34m/\u001b[0m\u001b[0mDecimal\u001b[0m\u001b[0;34m(\u001b[0m\u001b[0;36m2\u001b[0m\u001b[0;34m**\u001b[0m\u001b[0;36m36\u001b[0m\u001b[0;34m)\u001b[0m\u001b[0;34m**\u001b[0m\u001b[0;34m(\u001b[0m\u001b[0;36m10\u001b[0m\u001b[0;34m**\u001b[0m\u001b[0;36m11\u001b[0m\u001b[0;34m)\u001b[0m\u001b[0;34m)\u001b[0m\u001b[0;34m\u001b[0m\u001b[0m\n\u001b[0m",
        "\u001b[0;32m/usr/lib/python2.7/decimal.pyc\u001b[0m in \u001b[0;36m__pow__\u001b[0;34m(self, other, modulo, context)\u001b[0m\n\u001b[1;32m   2384\u001b[0m \u001b[0;34m\u001b[0m\u001b[0m\n\u001b[1;32m   2385\u001b[0m         \u001b[0;32melse\u001b[0m\u001b[0;34m:\u001b[0m\u001b[0;34m\u001b[0m\u001b[0m\n\u001b[0;32m-> 2386\u001b[0;31m             \u001b[0mans\u001b[0m \u001b[0;34m=\u001b[0m \u001b[0mans\u001b[0m\u001b[0;34m.\u001b[0m\u001b[0m_fix\u001b[0m\u001b[0;34m(\u001b[0m\u001b[0mcontext\u001b[0m\u001b[0;34m)\u001b[0m\u001b[0;34m\u001b[0m\u001b[0m\n\u001b[0m\u001b[1;32m   2387\u001b[0m \u001b[0;34m\u001b[0m\u001b[0m\n\u001b[1;32m   2388\u001b[0m         \u001b[0;32mreturn\u001b[0m \u001b[0mans\u001b[0m\u001b[0;34m\u001b[0m\u001b[0m\n",
        "\u001b[0;32m/usr/lib/python2.7/decimal.pyc\u001b[0m in \u001b[0;36m_fix\u001b[0;34m(self, context)\u001b[0m\n\u001b[1;32m   1674\u001b[0m         \u001b[0;32mif\u001b[0m \u001b[0mexp_min\u001b[0m \u001b[0;34m>\u001b[0m \u001b[0mEtop\u001b[0m\u001b[0;34m:\u001b[0m\u001b[0;34m\u001b[0m\u001b[0m\n\u001b[1;32m   1675\u001b[0m             \u001b[0;31m# overflow: exp_min > Etop iff self.adjusted() > Emax\u001b[0m\u001b[0;34m\u001b[0m\u001b[0;34m\u001b[0m\u001b[0m\n\u001b[0;32m-> 1676\u001b[0;31m             \u001b[0mans\u001b[0m \u001b[0;34m=\u001b[0m \u001b[0mcontext\u001b[0m\u001b[0;34m.\u001b[0m\u001b[0m_raise_error\u001b[0m\u001b[0;34m(\u001b[0m\u001b[0mOverflow\u001b[0m\u001b[0;34m,\u001b[0m \u001b[0;34m'above Emax'\u001b[0m\u001b[0;34m,\u001b[0m \u001b[0mself\u001b[0m\u001b[0;34m.\u001b[0m\u001b[0m_sign\u001b[0m\u001b[0;34m)\u001b[0m\u001b[0;34m\u001b[0m\u001b[0m\n\u001b[0m\u001b[1;32m   1677\u001b[0m             \u001b[0mcontext\u001b[0m\u001b[0;34m.\u001b[0m\u001b[0m_raise_error\u001b[0m\u001b[0;34m(\u001b[0m\u001b[0mInexact\u001b[0m\u001b[0;34m)\u001b[0m\u001b[0;34m\u001b[0m\u001b[0m\n\u001b[1;32m   1678\u001b[0m             \u001b[0mcontext\u001b[0m\u001b[0;34m.\u001b[0m\u001b[0m_raise_error\u001b[0m\u001b[0;34m(\u001b[0m\u001b[0mRounded\u001b[0m\u001b[0;34m)\u001b[0m\u001b[0;34m\u001b[0m\u001b[0m\n",
        "\u001b[0;32m/usr/lib/python2.7/decimal.pyc\u001b[0m in \u001b[0;36m_raise_error\u001b[0;34m(self, condition, explanation, *args)\u001b[0m\n\u001b[1;32m   3870\u001b[0m         \u001b[0;31m# Errors should only be risked on copies of the context\u001b[0m\u001b[0;34m\u001b[0m\u001b[0;34m\u001b[0m\u001b[0m\n\u001b[1;32m   3871\u001b[0m         \u001b[0;31m# self._ignored_flags = []\u001b[0m\u001b[0;34m\u001b[0m\u001b[0;34m\u001b[0m\u001b[0m\n\u001b[0;32m-> 3872\u001b[0;31m         \u001b[0;32mraise\u001b[0m \u001b[0merror\u001b[0m\u001b[0;34m(\u001b[0m\u001b[0mexplanation\u001b[0m\u001b[0;34m)\u001b[0m\u001b[0;34m\u001b[0m\u001b[0m\n\u001b[0m\u001b[1;32m   3873\u001b[0m \u001b[0;34m\u001b[0m\u001b[0m\n\u001b[1;32m   3874\u001b[0m     \u001b[0;32mdef\u001b[0m \u001b[0m_ignore_all_flags\u001b[0m\u001b[0;34m(\u001b[0m\u001b[0mself\u001b[0m\u001b[0;34m)\u001b[0m\u001b[0;34m:\u001b[0m\u001b[0;34m\u001b[0m\u001b[0m\n",
        "\u001b[0;31mOverflow\u001b[0m: above Emax"
       ]
      }
     ],
     "prompt_number": 56
    }
   ],
   "metadata": {}
  }
 ]
}