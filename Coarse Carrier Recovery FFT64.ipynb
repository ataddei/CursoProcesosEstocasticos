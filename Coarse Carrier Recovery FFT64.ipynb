{
 "metadata": {
  "name": "Coarse Carrier Recovery FFT64"
 },
 "nbformat": 3,
 "nbformat_minor": 0,
 "worksheets": [
  {
   "cells": [
    {
     "cell_type": "code",
     "collapsed": false,
     "input": [
      "\n",
      "import scipy.signal\n",
      "import matplotlib\n",
      "import matplotlib.pyplot as pl\n",
      "import numpy as np\n",
      "import itertools\n",
      "from commpy.filters import rcosfilter\n"
     ],
     "language": "python",
     "metadata": {},
     "outputs": [],
     "prompt_number": 1
    },
    {
     "cell_type": "code",
     "collapsed": false,
     "input": [
      "FS=1.6\n",
      "a=rcosfilter(64,0.1,1/1e6,FS*1e6)[1]\n",
      "b=np.fft.fft(a)\n",
      "pl.plot(abs(b))\n",
      "pl.show()"
     ],
     "language": "python",
     "metadata": {},
     "outputs": [],
     "prompt_number": 34
    },
    {
     "cell_type": "heading",
     "level": 1,
     "metadata": {},
     "source": [
      "Generacion de Datos"
     ]
    },
    {
     "cell_type": "code",
     "collapsed": false,
     "input": [
      "#Genero datos a 1.3xBaudRate\n",
      "#Interpolo a 2x con raised cosine y en frecuencia bajo de 2x a 1.3x quitando N*1.3/2 muestras del medio de la FFT\n",
      "import random\n",
      "N_data = int(10*8192)\n",
      "def gen_data_rx():\n",
      "    data=np.array([random.randint(0,1)*1.41-0.707 for i in xrange(N_data)])\n",
      "    data_zeros=np.vstack([data.T,np.zeros((N_data,1)).flatten()])\n",
      "    data_zeros=data_zeros.flatten('F')\n",
      "\n",
      "    rcos_filter=rcosfilter(64,0.1,1/1e6,2e6)[1]\n",
      "    data_interp = np.convolve(rcos_filter, data_zeros,'same')\n",
      "    fft_data_interp=(np.fft.fft(data_interp))\n",
      "\n",
      "    left_samples=int((fft_data_interp.size)*FS/2.0)\n",
      "    remove_samples=(fft_data_interp.size-left_samples)\n",
      "    resamples_fft=np.hstack((fft_data_interp[0:left_samples/2],fft_data_interp[-left_samples/2:]))\n",
      "    resampled_data=np.fft.ifft((resamples_fft))\n",
      "    return resampled_data.real\n",
      "\n",
      "rx_real = gen_data_rx()\n",
      "rx_imag = gen_data_rx()"
     ],
     "language": "python",
     "metadata": {},
     "outputs": [],
     "prompt_number": 35
    },
    {
     "cell_type": "heading",
     "level": 1,
     "metadata": {},
     "source": [
      "Generacion de ruido, simbolos complejos, modulacion y demodulacion"
     ]
    },
    {
     "cell_type": "code",
     "collapsed": false,
     "input": [
      "#pl.scatter(rx_real,rx_imag)\n",
      "import math\n",
      "def transmit(rx_lo=21.0,tx_lo=21.0):\n",
      "    freq=33e9*FS/2\n",
      "    noise_sigma = 0.2\n",
      "    noise_gen= np.random.randn\n",
      "    noise = [complex(noise_sigma*noise_gen(1,1)[0],noise_sigma*noise_gen(1,1)[0]) for i in xrange(len(rx_real)) ]\n",
      "    complex_tx=[ complex(item[0],item[1])+complex() for item in itertools.izip(rx_real,rx_imag)]\n",
      "    complex_tx_noise= np.add(complex_tx,noise)\n",
      "    complex_lo_tx=[ complex(np.cos(np.pi*phi/tx_lo),np.sin(np.pi*phi/tx_lo)) for phi in xrange(len(rx_real)) ] # 1GHz\n",
      "    complex_lo_rx=[ complex(np.cos(np.pi*phi/rx_lo),-np.sin(np.pi*phi/rx_lo)) for phi in xrange(len(rx_real)) ]#5Ghz\n",
      "    modulate = np.multiply(complex_tx_noise,complex_lo_tx)\n",
      "    demodulate = np.multiply(modulate,complex_lo_rx)\n",
      "    spectrum=[np.fft.fft(demodulate[i:i+64]) for i in xrange(len(complex_lo_rx)-64)]\n",
      "    return spectrum"
     ],
     "language": "python",
     "metadata": {},
     "outputs": [],
     "prompt_number": 36
    },
    {
     "cell_type": "heading",
     "level": 1,
     "metadata": {},
     "source": [
      "DPM ERROR"
     ]
    },
    {
     "cell_type": "code",
     "collapsed": false,
     "input": [
      "def dpm(spectrum,rcos=True):\n",
      "    min_value=[]\n",
      "    acc=1\n",
      "    for j in range(N_data/64):\n",
      "        if (rcos==True):\n",
      "            accum_spectrum = abs(np.multiply(np.array(b),np.array(spectrum[j*acc])))\n",
      "        else:\n",
      "            accum_spectrum = abs(np.array(spectrum[j*acc]))\n",
      "      \n",
      "        error_signal=(np.sum(np.square(accum_spectrum[20:26+1])) - np.sum(np.square(accum_spectrum[38:44+1])))\n",
      "\n",
      "        min_value.append(error_signal)\n",
      "\n",
      "    pl.subplot(2,1,1)\n",
      "    pl.title(\"Ultimo espectro acumulado\")\n",
      "    pl.plot((accum_spectrum[0:]))\n",
      "    pl.subplot(2,1,2)\n",
      "    pl.title(\"Funcion error en el tiempo\")\n",
      "    pl.plot(min_value)\n",
      "    pl.show()\n",
      "    print \"Media total\",\"\\tVarianza\"\n",
      "    print np.mean(min_value),\"\\t\",np.var(min_value)\n",
      "    return min_value"
     ],
     "language": "python",
     "metadata": {},
     "outputs": [],
     "prompt_number": 5
    },
    {
     "cell_type": "code",
     "collapsed": false,
     "input": [
      "np.ones?"
     ],
     "language": "python",
     "metadata": {},
     "outputs": [],
     "prompt_number": 90
    },
    {
     "cell_type": "heading",
     "level": 1,
     "metadata": {},
     "source": [
      "PSD ESTIMATION\n"
     ]
    },
    {
     "cell_type": "code",
     "collapsed": false,
     "input": [
      "def bartlett(spectrum):\n",
      "    min_value=[]\n",
      "    acc=64\n",
      "    for j in range(N_data/64):\n",
      "        accum_spectrum = (abs(spectrum[j*acc])**2)/64\n",
      "        for i in range(acc):\n",
      "            accum_spectrum+=(abs(spectrum[i+j*acc])**2)/64\n",
      "        accum_spectrum=accum_spectrum/acc\n",
      "        error_signal=(np.argmin(accum_spectrum[1:]))\n",
      "\n",
      "        min_value.append(error_signal)\n",
      "\n",
      "    pl.subplot(2,1,1)\n",
      "    pl.title(\"Ultimo espectro acumulado\")\n",
      "    pl.plot((accum_spectrum[0:]))\n",
      "    pl.subplot(2,1,2)\n",
      "    pl.title(\"Funcion error en el tiempo\")\n",
      "    pl.plot(min_value)\n",
      "    pl.show()\n",
      "    print \"Media total\",\"\\tMedia de una ventana cualquiera\"\n",
      "    print 31-np.mean(min_value),\"\\t\",31.0-np.mean(min_value[32:42])\n",
      "    return min_value"
     ],
     "language": "python",
     "metadata": {},
     "outputs": [],
     "prompt_number": 65
    },
    {
     "cell_type": "heading",
     "level": 1,
     "metadata": {},
     "source": [
      "FD-AFC\n"
     ]
    },
    {
     "cell_type": "heading",
     "level": 1,
     "metadata": {},
     "source": [
      "Testing RX_LO==TX_LO"
     ]
    },
    {
     "cell_type": "code",
     "collapsed": false,
     "input": [
      "same_signal=transmit()\n"
     ],
     "language": "python",
     "metadata": {},
     "outputs": [],
     "prompt_number": 37
    },
    {
     "cell_type": "code",
     "collapsed": false,
     "input": [
      "error_rcos = dpm(same_signal)\n",
      "error=dpm(same_signal,rcos=False)"
     ],
     "language": "python",
     "metadata": {},
     "outputs": [
      {
       "output_type": "stream",
       "stream": "stdout",
       "text": [
        "Media total \tVarianza\n",
        "2.02063452388 \t600.541980852\n",
        "Media total"
       ]
      },
      {
       "output_type": "stream",
       "stream": "stdout",
       "text": [
        " \tVarianza\n",
        "3.08702547286 \t2609.76192089\n"
       ]
      }
     ],
     "prompt_number": 38
    },
    {
     "cell_type": "code",
     "collapsed": false,
     "input": [
      "\n",
      "pl.hist(error)\n",
      "pl.hist(error_rcos)\n",
      "pl.show()"
     ],
     "language": "python",
     "metadata": {},
     "outputs": [],
     "prompt_number": 39
    },
    {
     "cell_type": "code",
     "collapsed": false,
     "input": [
      "print bartlett(transmit())"
     ],
     "language": "python",
     "metadata": {},
     "outputs": [
      {
       "output_type": "stream",
       "stream": "stdout",
       "text": [
        "Media total \tMedia de una ventana cualquiera\n",
        "-0.1328125 \t-2.1\n",
        "(-0.1328125, -2.1000000000000014)\n"
       ]
      }
     ],
     "prompt_number": 31
    },
    {
     "cell_type": "heading",
     "level": 1,
     "metadata": {},
     "source": [
      "Testing RX_LO=4GHz, TX_LO=1GHz"
     ]
    },
    {
     "cell_type": "code",
     "collapsed": false,
     "input": [
      "same_signal_offset=transmit(rx_lo=5.0)\n"
     ],
     "language": "python",
     "metadata": {},
     "outputs": [],
     "prompt_number": 23
    },
    {
     "cell_type": "code",
     "collapsed": false,
     "input": [
      "error_rcos=dpm(same_signal_offset)\n",
      "error=dpm(same_signal_offset,rcos=False)\n",
      "pl.hist(error)\n",
      "pl.hist(error_rcos)\n",
      "pl.show()"
     ],
     "language": "python",
     "metadata": {},
     "outputs": [
      {
       "output_type": "stream",
       "stream": "stdout",
       "text": [
        "Media total \tVarianza\n",
        "-585.034324559 \t136642.659298\n",
        "Media total"
       ]
      },
      {
       "output_type": "stream",
       "stream": "stdout",
       "text": [
        " \tVarianza\n",
        "-858.880998197 \t178469.740102\n"
       ]
      }
     ],
     "prompt_number": 25
    },
    {
     "cell_type": "code",
     "collapsed": false,
     "input": [
      "print bartlett(transmit(rx_lo=5.0))"
     ],
     "language": "python",
     "metadata": {},
     "outputs": [
      {
       "output_type": "stream",
       "stream": "stdout",
       "text": [
        "Media total \tMedia de una ventana cualquiera\n",
        "4.86643908684 \t4.3\n",
        "(4.8664390868359284, 4.3000000000000007)"
       ]
      },
      {
       "output_type": "stream",
       "stream": "stdout",
       "text": [
        "\n"
       ]
      }
     ],
     "prompt_number": 193
    }
   ],
   "metadata": {}
  }
 ]
}