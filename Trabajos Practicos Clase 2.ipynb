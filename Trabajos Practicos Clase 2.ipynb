{
 "metadata": {
  "name": ""
 },
 "nbformat": 3,
 "nbformat_minor": 0,
 "worksheets": [
  {
   "cells": [
    {
     "cell_type": "heading",
     "level": 1,
     "metadata": {},
     "source": [
      "TP1: Modelado del canal de transmision de tiempo discreto y valuacion discreta \n",
      "\n"
     ]
    },
    {
     "cell_type": "code",
     "collapsed": false,
     "input": [
      "%matplotlib inline\n",
      "import numpy as np\n",
      "import matplotlib.pyplot as plt\n"
     ],
     "language": "python",
     "metadata": {},
     "outputs": [],
     "prompt_number": 84
    },
    {
     "cell_type": "code",
     "collapsed": false,
     "input": [
      "N =int( 1e6)\n",
      "tx_bits =np.array([ np.random.rand()<0.8 for i in range(int(N))])\n",
      "\n",
      "tx_symbols = 1-2*tx_bits;\n"
     ],
     "language": "python",
     "metadata": {},
     "outputs": [],
     "prompt_number": 85
    },
    {
     "cell_type": "code",
     "collapsed": false,
     "input": [
      "plt.figure(1)\n",
      "plt.subplot(2,2,1)\n",
      "plt.plot(tx_symbols[1:100],'bo-')\n"
     ],
     "language": "python",
     "metadata": {},
     "outputs": [
      {
       "metadata": {},
       "output_type": "pyout",
       "prompt_number": 86,
       "text": [
        "[<matplotlib.lines.Line2D at 0xad6d596c>]"
       ]
      },
      {
       "metadata": {},
       "output_type": "display_data",
       "png": "[encoded data removed]",
       "text": [
        "<matplotlib.figure.Figure at 0xad6f650c>"
       ]
      }
     ],
     "prompt_number": 86
    },
    {
     "cell_type": "code",
     "collapsed": false,
     "input": [
      "plt.subplot(2,2,2)\n",
      "plt.hist(tx_symbols,20)\n"
     ],
     "language": "python",
     "metadata": {},
     "outputs": [
      {
       "metadata": {},
       "output_type": "pyout",
       "prompt_number": 87,
       "text": [
        "(array([ 799532.,       0.,       0.,       0.,       0.,       0.,\n",
        "             0.,       0.,       0.,       0.,       0.,       0.,\n",
        "             0.,       0.,       0.,       0.,       0.,       0.,\n",
        "             0.,  200468.]),\n",
        " array([-1. , -0.9, -0.8, -0.7, -0.6, -0.5, -0.4, -0.3, -0.2, -0.1,  0. ,\n",
        "        0.1,  0.2,  0.3,  0.4,  0.5,  0.6,  0.7,  0.8,  0.9,  1. ]),\n",
        " <a list of 20 Patch objects>)"
       ]
      },
      {
       "metadata": {},
       "output_type": "display_data",
       "png": "[encoded data removed]",
       "text": [
        "<matplotlib.figure.Figure at 0xad743fec>"
       ]
      }
     ],
     "prompt_number": 87
    },
    {
     "cell_type": "code",
     "collapsed": false,
     "input": [
      "#canal o ruido\n",
      "noise =np.array([(np.random.rand()<0.2)*(1+(np.random.rand()<0.5)) for i in range(int(N))])\n",
      "rx_symbols = tx_symbols - tx_symbols*noise\n",
      "plt.subplot(2,2,3)\n",
      "plt.hist(noise, 20)\n",
      "plt.subplot(2,2,4)\n",
      "plt.hist(rx_symbols, 20)\n",
      "plt.show()\n",
      "dx_symbols = 1-2*(rx_symbols < 0.5);  # 0 -> -1\n",
      "n_errors = np.sum(tx_symbols != dx_symbols)\n",
      "BER = float(n_errors)/N\n"
     ],
     "language": "python",
     "metadata": {},
     "outputs": [
      {
       "metadata": {},
       "output_type": "display_data",
       "png": "[encoded data removed]",
       "text": [
        "<matplotlib.figure.Figure at 0xab1718ec>"
       ]
      }
     ],
     "prompt_number": 88
    },
    {
     "cell_type": "code",
     "collapsed": false,
     "input": [
      "prob_x1_y1  = float(np.sum((rx_symbols==1)*(tx_symbols== +1)))/np.sum(rx_symbols==1)\n",
      "prob_xm1_y1 = float(np.sum((rx_symbols==1)*(tx_symbols== -1)))/np.sum(rx_symbols==1)\n",
      "prob_x1_y0  = float(np.sum((rx_symbols==0)*(tx_symbols== +1)))/np.sum(rx_symbols==0)\n",
      "prob_xm1_y0 = float(np.sum((rx_symbols==0)*(tx_symbols== -1)))/np.sum(rx_symbols==0)\n",
      "print prob_x1_y0,prob_x1_y1,prob_xm1_y0,prob_xm1_y1"
     ],
     "language": "python",
     "metadata": {},
     "outputs": [
      {
       "output_type": "stream",
       "stream": "stdout",
       "text": [
        "0.199618512198 0.665265041004 0.800381487802 0.334734958996\n"
       ]
      }
     ],
     "prompt_number": 61
    },
    {
     "cell_type": "heading",
     "level": 1,
     "metadata": {},
     "source": [
      "TP2: Modelado de BPSK con AWGN"
     ]
    },
    {
     "cell_type": "code",
     "collapsed": false,
     "input": [
      "snr_db_vector = range(1,26)\n",
      "ber_vector = []\n",
      "N=int(1e5)\n",
      "for snr_db in snr_db_vector:\n",
      "    tx_bits = np.array([np.random.rand()<0.8 for i in range(N)]);\n",
      "    tx_symbols = 1-2*tx_bits;\n",
      "    noise = np.array([(10**(float(-snr_db)/20))*np.random.randn() for i in range(N)])\n",
      "    rx_symbols = tx_symbols + noise;\n",
      "    dx_symbols = 1-2*(rx_symbols < 0);\n",
      "    n_errors = sum(dx_symbols != tx_symbols);\n",
      "    ber = float(n_errors)/N\n",
      "    ber_vector.append(ber)\n"
     ],
     "language": "python",
     "metadata": {},
     "outputs": [],
     "prompt_number": 89
    },
    {
     "cell_type": "code",
     "collapsed": false,
     "input": [
      "plt.figure()\n",
      "plt.semilogy(snr_db_vector, ber_vector, 'bo-')\n",
      "plt.grid()\n",
      "plt.show()"
     ],
     "language": "python",
     "metadata": {},
     "outputs": [
      {
       "metadata": {},
       "output_type": "display_data",
       "png": "[encoded data removed]",
       "text": [
        "<matplotlib.figure.Figure at 0xadaad14c>"
       ]
      }
     ],
     "prompt_number": 91
    },
    {
     "cell_type": "heading",
     "level": 1,
     "metadata": {},
     "source": [
      "TP3: Modelado de QPSK con AWGN y una falla en el detector la cual genera un piso de error"
     ]
    },
    {
     "cell_type": "code",
     "collapsed": false,
     "input": [
      "ser_vector = []\n",
      "def randomNoiseSNR(snr):\n",
      "    return 10**(float(-snr)/20)*np.random.randn()\n",
      "for snr in snr_db_vector:\n",
      "    tx_symbols = np.array([np.complex(1-2*(np.random.rand()<0.5),(1-2*(np.random.rand()<0.5))) for i in range(N)])\n",
      "    noise = np.array([np.complex(randomNoiseSNR(snr),randomNoiseSNR(snr)) for i in range(N)])\n",
      "    rx_symbols = tx_symbols + noise\n",
      "    #--- Detector -----------------------------------------------------------------\n",
      "    # El detector posee una falla en la frontera de decision del 1er cuadrante\n",
      "    amplitud = 0.2     #minima amplitud de la falla\n",
      "    angulo = 5.*np.pi/180 # amplitud angular de la falla\n",
      "    c1 = (np.real(rx_symbols)>0)*(np.imag(rx_symbols)>0)\n",
      "    rotatedAngle=np.angle(rx_symbols-np.complex(1,1))-np.pi\n",
      "    ca = (rotatedAngle < angulo)*( rotatedAngle > -angulo)\n",
      "    caa = ca*(np.abs(rx_symbols-np.complex(1,1))>amplitud)\n",
      "    d234 = (c1==0)*np.array([np.complex(1-2*(np.real(symb) < 0),(1-2*(np.imag(symb) < 0))) for symb in rx_symbols])\n",
      "    d1   = (c1==1)*( (caa==1)*np.complex(-1,1) + (caa==0)*np.complex(1,1))\n",
      "\n",
      "    dx_symbols = d1 + d234\n",
      "\n",
      "    # --- Calculo del SER ----------------------------------------------------------\n",
      "  \n",
      "    n_errors = np.sum(dx_symbols != tx_symbols)\n",
      "    ser = n_errors*1./N\n",
      "    ser_vector.append(ser)\n",
      "\n",
      "\n",
      "\n"
     ],
     "language": "python",
     "metadata": {},
     "outputs": [],
     "prompt_number": 110
    },
    {
     "cell_type": "code",
     "collapsed": false,
     "input": [
      "plt.figure()\n",
      "plt.semilogy(snr_db_vector, ser_vector, 'bo-')\n",
      "\n"
     ],
     "language": "python",
     "metadata": {},
     "outputs": [
      {
       "metadata": {},
       "output_type": "pyout",
       "prompt_number": 111,
       "text": [
        "[<matplotlib.lines.Line2D at 0xad6f67ec>]"
       ]
      },
      {
       "metadata": {},
       "output_type": "display_data",
       "png": "[encoded data removed]",
       "text": [
        "<matplotlib.figure.Figure at 0xab164a4c>"
       ]
      }
     ],
     "prompt_number": 111
    }
   ],
   "metadata": {}
  }
 ]
}