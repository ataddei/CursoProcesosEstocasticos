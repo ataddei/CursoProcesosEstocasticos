{
 "metadata": {
  "name": "",
  "signature": "sha256:cb1d328d19ae6f77bb61a2f12dbd0d7582c8a127e501f1a89339735502e1f476"
 },
 "nbformat": 3,
 "nbformat_minor": 0,
 "worksheets": [
  {
   "cells": [
    {
     "cell_type": "code",
     "collapsed": false,
     "input": [
      "import scipy.signal\n",
      "import matplotlib\n",
      "import matplotlib.pyplot as pl\n",
      "import numpy as np\n",
      "import itertools\n",
      "from commpy.filters import rrcosfilter\n",
      "import math\n",
      "import random\n"
     ],
     "language": "python",
     "metadata": {},
     "outputs": [],
     "prompt_number": 1
    },
    {
     "cell_type": "code",
     "collapsed": false,
     "input": [
      "FS=1.6\n",
      "a=rcosfilter(64,0.1,1/1e6,FS*1e6)[1]\n",
      "b=np.fft.fft(a)\n",
      "pl.plot(abs(b))\n",
      "pl.show()"
     ],
     "language": "python",
     "metadata": {},
     "outputs": [
      {
       "ename": "NameError",
       "evalue": "name 'rcosfilter' is not defined",
       "output_type": "pyerr",
       "traceback": [
        "\u001b[0;31m---------------------------------------------------------------------------\u001b[0m\n\u001b[0;31mNameError\u001b[0m                                 Traceback (most recent call last)",
        "\u001b[0;32m<ipython-input-2-2e8a6cedf976>\u001b[0m in \u001b[0;36m<module>\u001b[0;34m()\u001b[0m\n\u001b[1;32m      1\u001b[0m \u001b[0mFS\u001b[0m\u001b[0;34m=\u001b[0m\u001b[0;36m1.6\u001b[0m\u001b[0;34m\u001b[0m\u001b[0m\n\u001b[0;32m----> 2\u001b[0;31m \u001b[0ma\u001b[0m\u001b[0;34m=\u001b[0m\u001b[0mrcosfilter\u001b[0m\u001b[0;34m(\u001b[0m\u001b[0;36m64\u001b[0m\u001b[0;34m,\u001b[0m\u001b[0;36m0.1\u001b[0m\u001b[0;34m,\u001b[0m\u001b[0;36m1\u001b[0m\u001b[0;34m/\u001b[0m\u001b[0;36m1e6\u001b[0m\u001b[0;34m,\u001b[0m\u001b[0mFS\u001b[0m\u001b[0;34m*\u001b[0m\u001b[0;36m1e6\u001b[0m\u001b[0;34m)\u001b[0m\u001b[0;34m[\u001b[0m\u001b[0;36m1\u001b[0m\u001b[0;34m]\u001b[0m\u001b[0;34m\u001b[0m\u001b[0m\n\u001b[0m\u001b[1;32m      3\u001b[0m \u001b[0mb\u001b[0m\u001b[0;34m=\u001b[0m\u001b[0mnp\u001b[0m\u001b[0;34m.\u001b[0m\u001b[0mfft\u001b[0m\u001b[0;34m.\u001b[0m\u001b[0mfft\u001b[0m\u001b[0;34m(\u001b[0m\u001b[0ma\u001b[0m\u001b[0;34m)\u001b[0m\u001b[0;34m\u001b[0m\u001b[0m\n\u001b[1;32m      4\u001b[0m \u001b[0mpl\u001b[0m\u001b[0;34m.\u001b[0m\u001b[0mplot\u001b[0m\u001b[0;34m(\u001b[0m\u001b[0mabs\u001b[0m\u001b[0;34m(\u001b[0m\u001b[0mb\u001b[0m\u001b[0;34m)\u001b[0m\u001b[0;34m)\u001b[0m\u001b[0;34m\u001b[0m\u001b[0m\n\u001b[1;32m      5\u001b[0m \u001b[0mpl\u001b[0m\u001b[0;34m.\u001b[0m\u001b[0mshow\u001b[0m\u001b[0;34m(\u001b[0m\u001b[0;34m)\u001b[0m\u001b[0;34m\u001b[0m\u001b[0m\n",
        "\u001b[0;31mNameError\u001b[0m: name 'rcosfilter' is not defined"
       ]
      }
     ],
     "prompt_number": 2
    },
    {
     "cell_type": "code",
     "collapsed": false,
     "input": [
      "N_data = int(8192)\n",
      "BR=33e9\n",
      "analog_rate=16*BR\n",
      "fix_adc_rate=5/3*BR\n",
      "import random\n",
      "N_data = int(10*1024)\n",
      "\n",
      "def gen_data_rx(alfa=0.1):\n",
      "    data = np.array([complex(2*random.randint(0,1)-1,2*random.randint(0,1)-1) for i in xrange(N_data)])\n",
      "    data_zeros = np.zeros((N_data*16,1),dtype=complex).flatten()\n",
      "    data_zeros[1::16] = data    \n",
      "    rcos_filter = rrcosfilter(64,alfa,1/BR,16*BR)[1]\n",
      "    power_of_filter = np.sqrt(np.sum([ np.square(j) for j in rcos_filter]))\n",
      "    rcos_filter = rcos_filter/power_of_filter\n",
      "    data_interp = np.convolve(rcos_filter, data_zeros,'same')\n",
      "    return data_interp\n",
      "\n",
      "def gen_noise(SNRdb=13):\n",
      "    sigma_noise = 1/np.sqrt(10**(SNRdb/10.0))\n",
      "    noise = np.array([complex(np.random.normal(scale=sigma_noise),np.random.normal(scale=sigma_noise)) for i in xrange(N_data*16)])\n",
      "    return noise\n",
      "    \n",
      "Signal = gen_data_rx(0.1)\n",
      "Noise=gen_noise()\n",
      "pl.psd(np.real(Signal))\n",
      "#pl.psd(Noise)\n",
      "#pl.psd(np.add(Signal,Noise))\n",
      "pl.show()\n"
     ],
     "language": "python",
     "metadata": {},
     "outputs": [],
     "prompt_number": 13
    },
    {
     "cell_type": "code",
     "collapsed": false,
     "input": [
      "from fractions import Fraction\n",
      "a=Fraction(fix_adc_rate/analog_rate)\n",
      "N_proc=512\n",
      "sk_in_samples=7\n",
      "def sample_data():\n",
      "    sampled_data=scipy.signal.resample(Signal[:N_proc*8],int(N_proc*8*a))\n",
      "    skewed_data=scipy.signal.resample(Signal[sk_in_samples:N_proc*8+sk_in_samples],int(N_proc*8*a))\n",
      "    return (sampled_data,skewed_data)\n",
      "\n",
      "(sampled_data,skewed_data) = sample_data()\n",
      "pl.plot(np.real(sampled_data[-20:]),'-x',label='original')\n",
      "pl.plot(np.real(skewed_data[-20:]),'o-',label='skewed')\n",
      "pl.title('Signal vs skewed Signal with fractional delay {0}'.format(sk_in_samples/16.0))\n",
      "pl.legend()\n",
      "pl.show()"
     ],
     "language": "python",
     "metadata": {},
     "outputs": [],
     "prompt_number": 16
    },
    {
     "cell_type": "code",
     "collapsed": false,
     "input": [
      "fft_size=8#len(sampled_data)\n",
      "def fd_compensation():\n",
      "    D=1.0*sk_in_samples/16\n",
      "    \n",
      "    y=np.zeros((1,1))\n",
      "    phases_pos = [np.exp(np.complex(0,-i*(D)*2*np.pi/fft_size)) for i in range(1,fft_size/2)]\n",
      "    phases_neg = [np.exp(np.complex(0,(fft_size-i)*(D)*2*np.pi/fft_size)) for i in range(fft_size/2+1,fft_size)]\n",
      "    phases_pos = np.append(1,phases_pos)\n",
      "    phases_neg = np.append(np.real(np.exp(np.complex(0,-(D)*np.pi))),phases_neg)\n",
      "    phases= np.append(phases_pos,phases_neg)\n",
      "    for i in range(N_proc/fft_size):\n",
      "        regress=fft_size-2\n",
      "        x=skewed_data[i*(regress):(i*regress)+fft_size]\n",
      "        f=np.fft.fft(x,fft_size)\n",
      "        g=np.array([f[i]*phases[i] for i in range(fft_size)])\n",
      "        y=np.append(y,np.fft.ifft(g,fft_size)[1:-1])\n",
      "    return (x,y,f,g,phases)\n",
      "\n",
      "(x,y,f,g,phases)=fd_compensation()\n",
      "pl.title('FD Results')\n",
      "pl.subplot(4,1,1)\n",
      "pl.title('Signal comparison')\n",
      "pl.plot(np.imag(sampled_data[:100]),'-x',label='reference')\n",
      "pl.plot(np.imag(y[:100]),'-o',label='compensated')\n",
      "pl.legend()\n",
      "pl.subplot(4,1,2)\n",
      "pl.title('Input Spectrum')\n",
      "pl.plot(abs(np.fft.fft(np.real(skewed_data),512)))\n",
      "pl.subplot(4,1,3)\n",
      "pl.title('Output Spectrum')\n",
      "pl.plot(abs(np.fft.fft(y,512))[:511],'r')\n",
      "pl.subplot(4,1,4)\n",
      "pl.title('Coefficients Spectrum')\n",
      "pl.plot(np.abs((phases)),'g-d')\n",
      "\n",
      "pl.show()"
     ],
     "language": "python",
     "metadata": {},
     "outputs": [],
     "prompt_number": 19
    },
    {
     "cell_type": "code",
     "collapsed": false,
     "input": [
      "def td_compensation():\n",
      "    n_index=64\n",
      "    n_taps=6                   \n",
      "    d = sk_in_samples*4.0/n_index;\n",
      "    D = d + math.ceil(n_taps/2)-1;\n",
      "    x=skewed_data\n",
      "    taps=[]\n",
      "    for j in range(n_taps):     # // Taps Generation\n",
      "        c_double = 1.0\n",
      "        for k in range(n_taps): #// Products Generation\n",
      "            if (k!=j):\n",
      "              c_double = c_double * ((D-k)/(j-k))\n",
      "        taps.append(c_double)\n",
      "    taps.reverse()\n",
      "    y = [  sum(taps*x[i:i+6]) for i in range(len(x)-6)]\n",
      "    \n",
      "    return y,taps\n",
      "z,taps=td_compensation()\n",
      "\n"
     ],
     "language": "python",
     "metadata": {},
     "outputs": [],
     "prompt_number": 6
    },
    {
     "cell_type": "code",
     "collapsed": false,
     "input": [
      "len(z)"
     ],
     "language": "python",
     "metadata": {},
     "outputs": [
      {
       "metadata": {},
       "output_type": "pyout",
       "prompt_number": 13,
       "text": [
        "250"
       ]
      }
     ],
     "prompt_number": 13
    },
    {
     "cell_type": "code",
     "collapsed": false,
     "input": [
      "#pl.plot(y[1:],label='compensated')\n",
      "#pl.plot(z[:100],'-x',label='compensated TD')\n",
      "#pl.plot(skewed_data[3:],'-o',label='original with skew')\n",
      "#pl.plot(sampled_data[3:103],'-d',label='original without skew')\n",
      "pl.title('TD Results')\n",
      "pl.subplot(4,1,1)\n",
      "pl.title('Signal comparison')\n",
      "pl.plot(z[:100],'-x',label='compensated')\n",
      "pl.plot(sampled_data[3:103],'-o',label='reference')\n",
      "pl.legend()\n",
      "pl.subplot(4,1,2)\n",
      "pl.title('Input Spectrum')\n",
      "pl.plot(abs(np.fft.fft(np.real(skewed_data),512)))\n",
      "pl.subplot(4,1,3)\n",
      "pl.title('Output Spectrum')\n",
      "pl.plot(abs(np.fft.fft(z,512))[:511],'r')\n",
      "pl.subplot(4,1,4)\n",
      "pl.title('Coefficients Spectrum')\n",
      "pl.plot(np.abs(np.fft.fft(taps,8)),'g-d')\n",
      "\n",
      "pl.legend()\n",
      "pl.show()"
     ],
     "language": "python",
     "metadata": {},
     "outputs": [
      {
       "output_type": "stream",
       "stream": "stderr",
       "text": [
        "/usr/lib/python2.7/dist-packages/matplotlib/axes/_axes.py:476: UserWarning: No labelled objects found. Use label='...' kwarg on individual plots.\n",
        "  warnings.warn(\"No labelled objects found. \"\n"
       ]
      }
     ],
     "prompt_number": 7
    },
    {
     "cell_type": "markdown",
     "metadata": {},
     "source": [
      "Calculo de RMSD"
     ]
    },
    {
     "cell_type": "code",
     "collapsed": false,
     "input": [
      "def calc_fd_rmsd():\n",
      "    rmsd = np.sqrt(sum([  np.abs(y[1+i]-sampled_data[1+i])**2 for i in range(len(sampled_data)-1)])/(len(sampled_data)-1))\n",
      "    return rmsd\n",
      "def calc_td_rmsd():\n",
      "    rmsd = np.sqrt(sum([  np.abs(z[i]-sampled_data[3+i])**2 for i in range(len(z)-5)])/(len(z)-5))\n",
      "    return rmsd\n",
      "\n",
      "sk_in_samples=1\n",
      "(sampled_data,skewed_data) = sample_data()\n",
      "(x,y,f,g,phases)=fd_compensation()\n",
      "z,taps=td_compensation()\n",
      "print sk_in_samples,calc_td_rmsd(),calc_fd_rmsd()\n",
      "\n",
      "sk_in_samples=13\n",
      "(sampled_data,skewed_data) = sample_data()\n",
      "(x,y,f,g,phases)=fd_compensation()\n",
      "z,taps=td_compensation()\n",
      "print sk_in_samples,calc_td_rmsd(),calc_fd_rmsd()"
     ],
     "language": "python",
     "metadata": {},
     "outputs": [
      {
       "output_type": "stream",
       "stream": "stdout",
       "text": [
        "1 0.0143723322888 0.0107118872292\n",
        "13 0.0406209868322 0.036290677487\n"
       ]
      }
     ],
     "prompt_number": 8
    },
    {
     "cell_type": "raw",
     "metadata": {},
     "source": [
      "Barro los skew para ver la diferencia con TD"
     ]
    },
    {
     "cell_type": "code",
     "collapsed": false,
     "input": [
      "td_rmsd=[]\n",
      "fd_rmsd=[]\n",
      "fft_size=8\n",
      "for i in range(16):\n",
      "    sk_in_samples=i\n",
      "    (sampled_data,skewed_data) = sample_data()\n",
      "    (x,y,f,g,phases)=fd_compensation()\n",
      "    z,taps=td_compensation()\n",
      "    td_rmsd.append(calc_td_rmsd())\n",
      "    fd_rmsd.append(calc_fd_rmsd())\n",
      "\n",
      "pl.title('RMSD')\n",
      "pl.plot(td_rmsd,'s-',label='TD RMSD')\n",
      "pl.plot(fd_rmsd,'d-',label='FD RMSD')\n",
      "pl.xlabel( 'Phase used for skew')\n",
      "pl.grid()\n",
      "pl.legend()\n",
      "pl.show()"
     ],
     "language": "python",
     "metadata": {},
     "outputs": [],
     "prompt_number": 9
    },
    {
     "cell_type": "code",
     "collapsed": false,
     "input": [
      "parallelism=128\n",
      "radix=8\n",
      "n_ffts=math.ceil(parallelism/(radix-2.0))\n",
      "multipliers=(3*(radix-2.0)+2)*n_ffts\n",
      "adders=(3*(radix-2.0)+24*4)*n_ffts\n",
      "reference_adders = 5*parallelism\n",
      "reference_mults = 6*parallelism\n",
      "print n_ffts,multipliers,reference_mults\n",
      "print n_ffts,adders,reference_adders\n"
     ],
     "language": "python",
     "metadata": {},
     "outputs": [
      {
       "output_type": "stream",
       "stream": "stdout",
       "text": [
        "22.0 440.0 768\n",
        "22.0 2508.0 640\n"
       ]
      }
     ],
     "prompt_number": 10
    }
   ],
   "metadata": {}
  }
 ]
}