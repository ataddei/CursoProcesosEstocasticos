{
 "metadata": {
  "name": "Blind Coarse Carrier Recovery-Copy0"
 },
 "nbformat": 3,
 "nbformat_minor": 0,
 "worksheets": [
  {
   "cells": [
    {
     "cell_type": "code",
     "collapsed": false,
     "input": [
      "import scipy.signal\n",
      "import matplotlib\n",
      "import matplotlib.pyplot as pl\n",
      "import numpy as np\n",
      "import itertools\n",
      "from commpy.filters import rcosfilter\n",
      "import scipy.interpolate\n",
      "from scipy.interpolate import interp1d\n",
      "from commpy.channels import awgn\n"
     ],
     "language": "python",
     "metadata": {},
     "outputs": [],
     "prompt_number": 295
    },
    {
     "cell_type": "heading",
     "level": 1,
     "metadata": {},
     "source": [
      "Generaci\u00f3n de Datos"
     ]
    },
    {
     "cell_type": "raw",
     "metadata": {},
     "source": [
      "Defino Baud Rate, analog rate, y una frecuencia de ADC target. Genero N cantidad de bits e intercalo 1 cero, luego filtro con RCOS para tener 2 muestras por simbolo. Hago lo mismo para la parte real e imaginaria"
     ]
    },
    {
     "cell_type": "code",
     "collapsed": false,
     "input": [
      "\n",
      "BR=66e9\n",
      "analog_rate=16*BR\n",
      "fix_adc_rate=95e9\n",
      "import random\n",
      "N_data = int(4096)\n",
      "def gen_data_rx(alfa=0.1):\n",
      "    data=np.array([random.randint(0,1)*1.41-0.707 for i in xrange(N_data)])\n",
      "    data_zeros=np.vstack([data.T,np.zeros((N_data,1)).flatten()])\n",
      "    data_zeros=data_zeros.flatten('F')\n",
      "\n",
      "    rcos_filter=rcosfilter(64,alfa,1/BR,2*BR)[1]\n",
      "    data_interp = np.convolve(rcos_filter, data_zeros,'same')\n",
      "    return data_interp\n",
      "\n",
      "rx_real = gen_data_rx()\n",
      "rx_imag = gen_data_rx()"
     ],
     "language": "python",
     "metadata": {},
     "outputs": [],
     "prompt_number": 201
    },
    {
     "cell_type": "heading",
     "level": 2,
     "metadata": {},
     "source": [
      "Genero Filtro AFE"
     ]
    },
    {
     "cell_type": "code",
     "collapsed": false,
     "input": [
      "b, a = scipy.signal.butter(3, 60.0e9/analog_rate, 'low', analog=False)\n",
      "w, h = scipy.signal.freqz(b, a)\n",
      "pl.plot(w, 20 * np.log10(abs(h)))\n",
      "pl.show()"
     ],
     "language": "python",
     "metadata": {},
     "outputs": [],
     "prompt_number": 299
    },
    {
     "cell_type": "heading",
     "level": 2,
     "metadata": {},
     "source": [
      "Genero funciones de procesamientro"
     ]
    },
    {
     "cell_type": "raw",
     "metadata": {},
     "source": [
      "transmit para generar simbolos complejos y offset_analog para offset de portadora compleja"
     ]
    },
    {
     "cell_type": "code",
     "collapsed": false,
     "input": [
      "import math\n",
      "def transmit(rx_lo=21.0,tx_lo=21.0):\n",
      "    \n",
      "    complex_tx=[ complex(item[0],item[1])+complex() for item in itertools.izip(rx_real,rx_imag)]\n",
      "    return complex_tx"
     ],
     "language": "python",
     "metadata": {},
     "outputs": [],
     "prompt_number": 19
    },
    {
     "cell_type": "code",
     "collapsed": false,
     "input": [
      "def offset_analog(offset,data):\n",
      "    complex_lo_tx=[ complex(np.cos(2*np.pi*offset*phi/analog_rate),-np.sin(2*np.pi*offset*phi/analog_rate)) for phi in xrange(len(data)) ] # 1GHz\n",
      "    return np.multiply(complex_lo_tx,data)"
     ],
     "language": "python",
     "metadata": {},
     "outputs": [],
     "prompt_number": 95
    },
    {
     "cell_type": "heading",
     "level": 2,
     "metadata": {},
     "source": [
      "Inicio transmision"
     ]
    },
    {
     "cell_type": "code",
     "collapsed": false,
     "input": [
      "same_signal=transmit()"
     ],
     "language": "python",
     "metadata": {},
     "outputs": [],
     "prompt_number": 21
    },
    {
     "cell_type": "code",
     "collapsed": false,
     "input": [
      "pl.plot(abs(np.fft.fft(same_signal)),'-x')\n",
      "pl.show()"
     ],
     "language": "python",
     "metadata": {},
     "outputs": [],
     "prompt_number": 22
    },
    {
     "cell_type": "heading",
     "level": 3,
     "metadata": {},
     "source": [
      "Sobremuestreo las 2 muestras por simbolo a 16 muestras por simbolo con interpolacion"
     ]
    },
    {
     "cell_type": "code",
     "collapsed": false,
     "input": [
      "y = same_signal[:1500]\n",
      "x = np.linspace(0, 1, len(y), endpoint=True)\n",
      "f = interp1d(x, y)\n",
      "f2 = interp1d(x, y, kind='cubic')\n",
      "xnew = np.linspace(0, 1, len(y)*8, endpoint=True)\n",
      "pl.plot(x, y, 'o', xnew, f(xnew), '-', xnew, f2(xnew), '--')\n",
      "pl.legend(['data', 'linear', 'cubic'], loc='best')\n",
      "pl.show()"
     ],
     "language": "python",
     "metadata": {},
     "outputs": [],
     "prompt_number": 100
    },
    {
     "cell_type": "heading",
     "level": 3,
     "metadata": {},
     "source": [
      "Agredo ruido y filtro con AFE"
     ]
    },
    {
     "cell_type": "code",
     "collapsed": false,
     "input": [
      "\n",
      "noise_sigma = 0.35\n",
      "noise_gen= np.random.randn\n",
      "noise = [complex(noise_sigma*noise_gen(1,1)[0],noise_sigma*noise_gen(1,1)[0]) for i in xrange(len(xnew)) ]\n",
      "noisy_signal=np.add(noise,f2(xnew))\n",
      "\n",
      "#noisy_signal,f2(xnew)\n",
      "\n",
      "#pl.plot(xnew[:500],noisy_signal[:500],'r')\n",
      "#pl.plot(xnew[:500],f2(xnew)[:500],'-s')\n",
      "#pl.show()"
     ],
     "language": "python",
     "metadata": {},
     "outputs": [],
     "prompt_number": 288
    },
    {
     "cell_type": "heading",
     "level": 3,
     "metadata": {},
     "source": [
      "Pongo offset y filtro con AFE"
     ]
    },
    {
     "cell_type": "code",
     "collapsed": false,
     "input": [
      "offset_signal=offset_analog(-2.5e9,noisy_signal)\n",
      "filtered = scipy.signal.lfilter(b, a, offset_signal)\n",
      "pl.plot(xnew[:500],filtered[:500],'-x')\n",
      "pl.show()"
     ],
     "language": "python",
     "metadata": {},
     "outputs": [
      {
       "output_type": "stream",
       "stream": "stdout",
       "text": [
        "[ 0.00530041  0.01590123  0.01590123  0.00530041] [ 1.         -2.21916862  1.71511783 -0.45354593]\n"
       ]
      }
     ],
     "prompt_number": 55
    },
    {
     "cell_type": "code",
     "collapsed": false,
     "input": [
      "pl.plot(abs(np.fft.fft(filtered)),'-x',abs(np.fft.fft(noisy_signal)),'-dr')\n",
      "pl.show()"
     ],
     "language": "python",
     "metadata": {},
     "outputs": [],
     "prompt_number": 56
    },
    {
     "cell_type": "heading",
     "level": 2,
     "metadata": {},
     "source": [
      "Sampling"
     ]
    },
    {
     "cell_type": "code",
     "collapsed": false,
     "input": [
      "from fractions import Fraction\n",
      "frac_rate=Fraction(analog_rate/fix_adc_rate)\n",
      "int_rate=frac_rate.limit_denominator(1)\n",
      "effective_rate= analog_rate/(int_rate)\n",
      "sampled_data=filtered[::int_rate.numerator]\n",
      "pl.plot(abs(np.fft.fft(offset_signal,1024)),'-x')\n",
      "pl.plot(abs(np.fft.fft(sampled_data,1024)),'-dr')\n",
      "\n",
      "pl.show()"
     ],
     "language": "python",
     "metadata": {},
     "outputs": [],
     "prompt_number": 202
    },
    {
     "cell_type": "code",
     "collapsed": false,
     "input": [
      "effective_rate"
     ],
     "language": "python",
     "metadata": {},
     "outputs": [
      {
       "output_type": "pyout",
       "prompt_number": 300,
       "text": [
        "96000000000.0"
       ]
      }
     ],
     "prompt_number": 300
    },
    {
     "cell_type": "code",
     "collapsed": false,
     "input": [
      "pl.plot(sampled_data,'-s')\n",
      "pl.show()"
     ],
     "language": "python",
     "metadata": {},
     "outputs": [],
     "prompt_number": 85
    },
    {
     "cell_type": "heading",
     "level": 2,
     "metadata": {},
     "source": [
      "Raised Cosine Filter en dominio de sampling"
     ]
    },
    {
     "cell_type": "code",
     "collapsed": false,
     "input": [
      "rcos_filter_digital=rcosfilter(64,0.1,1/BR,effective_rate)[1]\n",
      "filtered_samples = np.convolve(rcos_filter_digital, sampled_data,'same')"
     ],
     "language": "python",
     "metadata": {},
     "outputs": [],
     "prompt_number": 206
    },
    {
     "cell_type": "code",
     "collapsed": false,
     "input": [
      "pl.plot(abs(np.fft.fft(filtered_samples)),'-s')\n",
      "pl.show()"
     ],
     "language": "python",
     "metadata": {},
     "outputs": [],
     "prompt_number": 87
    },
    {
     "cell_type": "code",
     "collapsed": false,
     "input": [
      "np.var(filtered_samples)"
     ],
     "language": "python",
     "metadata": {},
     "outputs": [
      {
       "output_type": "pyout",
       "prompt_number": 88,
       "text": [
        "6.3176766556058048"
       ]
      }
     ],
     "prompt_number": 88
    },
    {
     "cell_type": "heading",
     "level": 1,
     "metadata": {},
     "source": [
      "Loop funci\u00f3n costo de offset, matched filter RCOS\n"
     ]
    },
    {
     "cell_type": "code",
     "collapsed": false,
     "input": [
      "freqs = np.linspace(-5,5,7)\n",
      "rolloffs=[0.1,0.2,0.5]\n",
      "afe_fc=np.linspace(55e9,66e9,3)\n",
      "\n",
      "stats={}\n",
      "for k in afe_fc:\n",
      "    stats[k]={}\n",
      "    b, a = scipy.signal.butter(3, k/analog_rate, 'low', analog=False)\n",
      "    for i in rolloffs:\n",
      "        stats[k][i]=[]\n",
      "        variances=[]\n",
      "        correlations=[]\n",
      "        rx_real= gen_data_rx(i)\n",
      "        rx_imag= gen_data_rx(i)\n",
      "        same_signal=transmit()\n",
      "        y = same_signal[:1500]\n",
      "        x = np.linspace(0, 1, len(y), endpoint=True)\n",
      "        f2 = interp1d(x, y, kind='cubic')\n",
      "        xnew = np.linspace(0, 1, len(y)*8, endpoint=True)\n",
      "        noise = [complex(noise_sigma*noise_gen(1,1)[0],noise_sigma*noise_gen(1,1)[0]) for _ in xrange(len(xnew)) ]\n",
      "        noisy_signal=awgn(f2(xnew),6)#np.add(noise,f2(xnew))\n",
      "        for j in freqs:\n",
      "            offset_signal=offset_analog(j*1e9,noisy_signal)\n",
      "            filtered = scipy.signal.lfilter(b, a, offset_signal)\n",
      "            sampled_data=filtered[::int_rate.numerator]\n",
      "            filtered_samples = np.convolve(rcos_filter_digital, sampled_data,'same')\n",
      "            variances.append(np.var(filtered_samples))\n",
      "            correlations.append(np.correlate(filtered_samples,filtered_samples))\n",
      "        #stats[i].append(variances)\n",
      "        stats[k][i]=(correlations)\n"
     ],
     "language": "python",
     "metadata": {},
     "outputs": [],
     "prompt_number": 303
    },
    {
     "cell_type": "code",
     "collapsed": false,
     "input": [
      "len(filtered_samples)\n",
      "#20*np.log10(np.var(f2(xnew))/np.var(noise))"
     ],
     "language": "python",
     "metadata": {},
     "outputs": [
      {
       "output_type": "pyout",
       "prompt_number": 302,
       "text": [
        "1091"
       ]
      }
     ],
     "prompt_number": 302
    },
    {
     "cell_type": "code",
     "collapsed": false,
     "input": [
      "# Two subplots, the axes array is 1-d\n",
      "#pl.figure( figsize=(2.5*8, 2.5*6), dpi=80, facecolor='w', edgecolor='k')\n",
      "f, axarr = pl.subplots(1,3, sharey=True,figsize=(2.5*8, 2.5*6), dpi=80, facecolor='w', edgecolor='k')\n",
      "for k in enumerate(afe_fc):\n",
      "    \n",
      "    axarr[k[0]].grid()\n",
      "    axarr[k[0]].set_title(\"AFE Cutoff Frequency: {:g}[Hz]\".format(k[1]))\n",
      "    axarr[k[0]].plot(freqs, stats[k[1]][0.5], 'bs-',label='0.5')\n",
      "    axarr[k[0]].plot(freqs, stats[k[1]][0.2], 'gs-',label='0.2')\n",
      "    axarr[k[0]].plot(freqs, stats[k[1]][0.1], 'rs-',label='0.1')\n",
      "    axarr[k[0]].legend(title='Roll-off')\n",
      "    axarr[k[0]].set_xlabel('Freq[GHz]')\n",
      "    # Make the y-axis label and tick labels match the line color.\n",
      "    axarr[k[0]].set_ylabel('Autocorrelation Rx(0)')\n",
      "    \n",
      "\n",
      "\n",
      "pl.show()\n",
      "\n"
     ],
     "language": "python",
     "metadata": {},
     "outputs": [],
     "prompt_number": 301
    },
    {
     "cell_type": "code",
     "collapsed": false,
     "input": [],
     "language": "python",
     "metadata": {},
     "outputs": []
    }
   ],
   "metadata": {}
  }
 ]
}