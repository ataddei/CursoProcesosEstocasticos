{
 "metadata": {
  "name": "Blind Coarse Carrier Recovery"
 },
 "nbformat": 3,
 "nbformat_minor": 0,
 "worksheets": [
  {
   "cells": [
    {
     "cell_type": "code",
     "collapsed": false,
     "input": [
      "import scipy.signal\n",
      "import matplotlib\n",
      "import matplotlib.pyplot as pl\n",
      "import numpy as np\n",
      "import itertools\n",
      "from commpy.filters import rrcosfilter\n",
      "import scipy.interpolate\n",
      "from scipy.interpolate import interp1d\n",
      "from commpy.channels import awgn\n"
     ],
     "language": "python",
     "metadata": {},
     "outputs": [],
     "prompt_number": 36
    },
    {
     "cell_type": "heading",
     "level": 1,
     "metadata": {},
     "source": [
      "Generaci\u00f3n de Datos"
     ]
    },
    {
     "cell_type": "raw",
     "metadata": {},
     "source": [
      "Defino Baud Rate, analog rate, y una frecuencia de ADC target. Genero N cantidad de bits e intercalo 1 cero, luego filtro con RCOS para tener 2 muestras por simbolo. Hago lo mismo para la parte real e imaginaria"
     ]
    },
    {
     "cell_type": "code",
     "collapsed": false,
     "input": [
      "\n",
      "BR=66e9\n",
      "analog_rate=16*BR\n",
      "fix_adc_rate=90e9\n",
      "import random\n",
      "N_data = int(4*512)\n",
      "\n",
      "def gen_data_rx(alfa=0.1):\n",
      "    data = np.array([complex(2*random.randint(0,1)-1,2*random.randint(0,1)-1) for i in xrange(N_data)])\n",
      "    data_zeros = np.zeros((N_data*16,1),dtype=complex).flatten()\n",
      "    data_zeros[1::16] = data    \n",
      "    rcos_filter = rrcosfilter(64,alfa,1/BR,16*BR)[1]\n",
      "    power_of_filter = np.sqrt(np.sum([ np.square(j) for j in rcos_filter]))\n",
      "    rcos_filter = rcos_filter/power_of_filter\n",
      "    data_interp = np.convolve(rcos_filter, data_zeros,'same')\n",
      "    return data_interp\n",
      "\n",
      "def gen_noise(SNRdb=13):\n",
      "    sigma_noise = 1/np.sqrt(10**(SNRdb/10.0))\n",
      "    noise = np.array([complex(np.random.normal(scale=sigma_noise),np.random.normal(scale=sigma_noise)) for i in xrange(N_data*16)])\n",
      "    return noise\n",
      "    \n",
      "Signal = gen_data_rx(0.1)\n",
      "Noise=gen_noise()\n",
      "#pl.psd(Signal)\n",
      "#pl.psd(Noise)\n",
      "pl.psd(np.add(Signal,Noise))\n",
      "pl.show()"
     ],
     "language": "python",
     "metadata": {},
     "outputs": [],
     "prompt_number": 588
    },
    {
     "cell_type": "code",
     "collapsed": false,
     "input": [
      "rcos_filter=rrcosfilter(64,0.1,1/BR,16*BR)[1]\n",
      "print np.array([complex(2*random.randint(0,1)-1,2*random.randint(0,1)-1) for i in xrange(N_data)])"
     ],
     "language": "python",
     "metadata": {},
     "outputs": [
      {
       "output_type": "stream",
       "stream": "stdout",
       "text": [
        "[ 1.+1.j -1.-1.j  1.-1.j ...,  1.-1.j  1.-1.j -1.-1.j]\n"
       ]
      }
     ],
     "prompt_number": 434
    },
    {
     "cell_type": "heading",
     "level": 2,
     "metadata": {},
     "source": [
      "Genero Filtro AFE"
     ]
    },
    {
     "cell_type": "code",
     "collapsed": false,
     "input": [
      "b, a = scipy.signal.butter(5, (BR/2)/(analog_rate/2), 'low', analog=False)\n",
      "w, h = scipy.signal.freqz(b, a,)\n",
      "pl.plot(w*analog_rate/(2*np.pi), 20 * np.log10(abs(h)))\n",
      "pl.figure()\n",
      "filtered = scipy.signal.filtfilt(b, a, Signal)\n",
      "pl.psd(Signal,Fs=analog_rate)\n",
      "pl.psd(filtered,Fs=analog_rate)\n",
      "pl.show()"
     ],
     "language": "python",
     "metadata": {},
     "outputs": [],
     "prompt_number": 242
    },
    {
     "cell_type": "heading",
     "level": 2,
     "metadata": {},
     "source": [
      "Genero funciones de procesamientro"
     ]
    },
    {
     "cell_type": "raw",
     "metadata": {},
     "source": [
      "transmit para generar simbolos complejos y offset_analog para offset de portadora compleja"
     ]
    },
    {
     "cell_type": "code",
     "collapsed": false,
     "input": [
      "def offset_analog(offset,data):\n",
      "    complex_lo_tx=[ complex(np.cos(2*np.pi*offset*phi/analog_rate),np.sin(2*np.pi*offset*phi/analog_rate)) for phi in xrange(len(data)) ] # 1GHz\n",
      "    return np.multiply(complex_lo_tx,data)"
     ],
     "language": "python",
     "metadata": {},
     "outputs": [],
     "prompt_number": 464
    },
    {
     "cell_type": "code",
     "collapsed": false,
     "input": [
      "def offset_digital(offset,data):\n",
      "    complex_lo_rx=[ complex(np.cos(2*np.pi*offset*phi/fix_adc_rate),-np.sin(2*np.pi*offset*phi/fix_adc_rate)) for phi in xrange(len(data)) ] # 1GHz\n",
      "    return np.multiply(complex_lo_rx,data)"
     ],
     "language": "python",
     "metadata": {},
     "outputs": [],
     "prompt_number": 467
    },
    {
     "cell_type": "heading",
     "level": 2,
     "metadata": {},
     "source": [
      "Inicio transmision"
     ]
    },
    {
     "cell_type": "heading",
     "level": 3,
     "metadata": {},
     "source": [
      "Sobremuestreo las 2 muestras por simbolo a 16 muestras por simbolo con interpolacion"
     ]
    },
    {
     "cell_type": "heading",
     "level": 3,
     "metadata": {},
     "source": [
      "Agredo ruido y filtro con AFE"
     ]
    },
    {
     "cell_type": "heading",
     "level": 3,
     "metadata": {},
     "source": [
      "Pongo offset y filtro con AFE"
     ]
    },
    {
     "cell_type": "heading",
     "level": 2,
     "metadata": {},
     "source": [
      "Sampling"
     ]
    },
    {
     "cell_type": "code",
     "collapsed": false,
     "input": [
      "from fractions import Fraction\n",
      "a=Fraction(fix_adc_rate/analog_rate)\n",
      "sampled_data=scipy.signal.resample(Signal,int(float(len(Signal))*a))\n",
      "pl.plot(abs(np.fft.fft(sampled_data,1024)),'-dr')\n",
      "pl.show()"
     ],
     "language": "python",
     "metadata": {},
     "outputs": [],
     "prompt_number": 38
    },
    {
     "cell_type": "code",
     "collapsed": false,
     "input": [
      "\n",
      "pl.plot(sampled_data,'dr')\n",
      "pl.show()\n",
      "int(float(len(Signal))*a),len(Signal)"
     ],
     "language": "python",
     "metadata": {},
     "outputs": [
      {
       "output_type": "pyout",
       "prompt_number": 33,
       "text": [
        "(11170, 131072)"
       ]
      }
     ],
     "prompt_number": 33
    },
    {
     "cell_type": "code",
     "collapsed": false,
     "input": [
      "pl.plot(sampled_data,'-s')\n",
      "pl.show()"
     ],
     "language": "python",
     "metadata": {},
     "outputs": [],
     "prompt_number": 29
    },
    {
     "cell_type": "heading",
     "level": 2,
     "metadata": {},
     "source": [
      "Raised Cosine Filter en dominio de sampling"
     ]
    },
    {
     "cell_type": "code",
     "collapsed": false,
     "input": [
      "rcos_filter_digital=rrcosfilter(64,0.1,1/BR,fix_adc_rate)[1]\n",
      "filtered_samples = np.convolve(rcos_filter_digital, sampled_data,'same')"
     ],
     "language": "python",
     "metadata": {},
     "outputs": [],
     "prompt_number": 39
    },
    {
     "cell_type": "code",
     "collapsed": false,
     "input": [
      "pl.plot(abs(np.fft.fft(filtered_samples)),'-s')\n",
      "pl.show()"
     ],
     "language": "python",
     "metadata": {},
     "outputs": [],
     "prompt_number": 40
    },
    {
     "cell_type": "code",
     "collapsed": false,
     "input": [
      "np.var(filtered_samples)"
     ],
     "language": "python",
     "metadata": {},
     "outputs": [
      {
       "output_type": "pyout",
       "prompt_number": 88,
       "text": [
        "6.3176766556058048"
       ]
      }
     ],
     "prompt_number": 88
    },
    {
     "cell_type": "heading",
     "level": 1,
     "metadata": {},
     "source": [
      "Loop funci\u00f3n costo de offset, matched filter RCOS\n"
     ]
    },
    {
     "cell_type": "code",
     "collapsed": false,
     "input": [
      "freqs = np.linspace(-5,5,11)\n",
      "freqs_dig = np.linspace(-5,5,11)\n",
      "\n",
      "rolloffs = [0.1,0.2,0.5]\n",
      "afe_fc = np.linspace(19e9,45e9,4)\n",
      "fix_adc_rate = BR*2\n",
      "frac_rate = Fraction(fix_adc_rate/analog_rate)\n",
      "stats = {}\n",
      "\n",
      "\n",
      "for n in [7,10,13]:\n",
      "    stats[n]={}\n",
      "    #fig = pl.figure()\n",
      "    for k in afe_fc:\n",
      "        stats[n][k]={}\n",
      "        b, a = scipy.signal.butter(3, 2*k/analog_rate, 'low', analog=False)\n",
      "        for i in rolloffs:\n",
      "            \n",
      "            stats[n][k][i] = {}\n",
      "            variances = []\n",
      "            \n",
      "            Signal = gen_data_rx(i)\n",
      "            noisy_signal = np.add(Signal,gen_noise(n))#np.add(noise,f2(xnew))\n",
      "            rcos_filter_digital = rrcosfilter(64,i,1/BR,fix_adc_rate)[1]\n",
      "            for j in freqs:\n",
      "                correlations = []\n",
      "                offset_signal = offset_analog(j*1e9,noisy_signal)\n",
      "                filtered = scipy.signal.filtfilt(b, a, offset_signal)\n",
      "                sampled_data = scipy.signal.resample(filtered,int(float(len(Signal))*frac_rate))\n",
      "                stats[n][k][i][j]=[]\n",
      "                for l in freqs_dig:\n",
      "                    rx_rotated_samples = offset_digital(l*1e9,sampled_data)\n",
      "                    filtered_samples = np.convolve(rcos_filter_digital, rx_rotated_samples,'same')\n",
      "                    #variances.append(np.var(filtered_samples))\n",
      "                    correlations.extend(list(np.correlate(filtered_samples,filtered_samples)))\n",
      "                #stats[n][k][i].append(variances)\n",
      "                stats[n][k][i][j]=list(correlations)\n",
      "    "
     ],
     "language": "python",
     "metadata": {},
     "outputs": [],
     "prompt_number": 604
    },
    {
     "cell_type": "code",
     "collapsed": false,
     "input": [
      "import matplotlib.gridspec as gridspec\n",
      "gs = gridspec.GridSpec(2, 2,\n",
      "                       width_ratios=[4,1],\n",
      "                       height_ratios=[1,1]\n",
      "                       )\n",
      "Signal = gen_data_rx(0.1)\n",
      "noisy_signal = np.add(Signal,gen_noise(7))#np.add(noise,f2(xnew))noisy_signal=awgn(Signal,7/16)#np.add(noise,f2(xnew))\n",
      "offset_signal=offset_analog(-5*1e9,noisy_signal)\n",
      "b, a = scipy.signal.butter(3, 2*28e9/analog_rate, 'low', analog=False)\n",
      "rcos_filter_digital = rrcosfilter(64,0.1,1/BR,fix_adc_rate)[1]\n",
      "filtered = scipy.signal.filtfilt(b, a, offset_signal)\n",
      "sampled_data = scipy.signal.resample(filtered,int(float(len(Signal))*frac_rate))\n",
      "rx_rotated_samples = offset_digital(-5*1e9,sampled_data)\n",
      "filtered_samples = np.convolve(rcos_filter_digital, rx_rotated_samples,'same')\n",
      "pl.figure(figsize=(3*8, 2*6), dpi=80, facecolor='w', edgecolor='k')\n",
      "ax= pl.subplot(gs[0])\n",
      "\n",
      "ax.psd(sampled_data,label='ADC',Fs=fix_adc_rate,scale_by_freq=False,pad_to=1024)\n",
      "ax.psd(rx_rotated_samples,label='ADC+RX_LO',Fs=fix_adc_rate,pad_to=1024,scale_by_freq=False)\n",
      "ax.psd(filtered_samples,label='ADC+RX_LO+RCOS',Fs=fix_adc_rate,pad_to=1024,scale_by_freq=False)\n",
      "ax.set_title('PSD of Signal with RCOS={0}, OSNR={1}, Tx Offset={2}GHz, AFE Fc={3}GHz, Rx Offset={4}GHz'.format(0.1,7,-5,28,-5),fontsize=18)\n",
      "ax.legend()\n",
      "ax=pl.subplot(gs[1])\n",
      "ax=pl.hist(Signal-noisy_signal,40)\n",
      "pl.title('Histogram of AWGN',fontsize=18)\n",
      "ax=pl.subplot(gs[2])\n",
      "#ax.set_xlim(-6e11,6e11)\n",
      "ax.set_ylim(-70,10)\n",
      "Signal = gen_data_rx(0.1)\n",
      "noisy_signal = np.add(Signal,gen_noise(13))#noisy_signal=awgn(Signal,13/16)#np.add(noise,f2(xnew))\n",
      "offset_signal=offset_analog(-5*1e9,noisy_signal)\n",
      "b, a = scipy.signal.butter(3, 2*35e9/analog_rate, 'low', analog=False)\n",
      "rcos_filter_digital = rrcosfilter(64,0.1,1/BR,fix_adc_rate)[1]\n",
      "filtered = scipy.signal.filtfilt(b, a, offset_signal)\n",
      "sampled_data = scipy.signal.resample(filtered,int(float(len(Signal))*frac_rate))\n",
      "rx_rotated_samples = offset_digital(0*1e9,sampled_data)\n",
      "filtered_samples = np.convolve(rcos_filter_digital, rx_rotated_samples,'same')\n",
      "\n",
      "ax.psd(sampled_data,label='ADC',Fs=fix_adc_rate,scale_by_freq=False,pad_to=1024)\n",
      "ax.psd(rx_rotated_samples,label='ADC+RX_LO',Fs=fix_adc_rate,pad_to=1024,scale_by_freq=False)\n",
      "ax.psd(filtered_samples,label='ADC+RX_LO+RCOS',Fs=fix_adc_rate,pad_to=1024,scale_by_freq=False)\n",
      "ax.set_title('PSD of Signal with RCOS={0}, OSNR={1}, Tx Offset={2}GHz, AFE Fc={3}GHz, RX Offset={4}'.format(0.1,7,-5,28,0),fontsize=18)\n",
      "ax.legend()\n",
      "ax=pl.subplot(gs[3])\n",
      "ax=pl.hist(Signal-noisy_signal,40)\n",
      "pl.title('Histogram of AWGN',fontsize=18)\n",
      "pl.savefig('psd3.eps')\n",
      "\n",
      "pl.show()"
     ],
     "language": "python",
     "metadata": {},
     "outputs": [],
     "prompt_number": 698
    },
    {
     "cell_type": "code",
     "collapsed": false,
     "input": [
      "import matplotlib.gridspec as gridspec\n",
      "gs = gridspec.GridSpec(2, 2,\n",
      "                       width_ratios=[4,1],\n",
      "                       height_ratios=[1,1]\n",
      "                       )\n",
      "Signal = gen_data_rx(0.1)\n",
      "noisy_signal = np.add(Signal,gen_noise(7))#np.add(noise,f2(xnew))noisy_signal=awgn(Signal,7/16)#np.add(noise,f2(xnew))\n",
      "offset_signal=offset_analog(-5*1e9,noisy_signal)\n",
      "b, a = scipy.signal.butter(3, 2*28e9/analog_rate, 'low', analog=False)\n",
      "filtered = scipy.signal.filtfilt(b, a, offset_signal)\n",
      "pl.figure(figsize=(3*8, 2*6), dpi=80, facecolor='w', edgecolor='k')\n",
      "ax= pl.subplot(gs[0])\n",
      "#ax.set_xlim(-6e11,6e11)\n",
      "ax.set_ylim(-70,10)\n",
      "ax.psd(Signal,label='Tx',Fs=analog_rate,scale_by_freq=False,pad_to=1024)\n",
      "ax.psd(noisy_signal,label='Tx+Noise',Fs=analog_rate,pad_to=1024,scale_by_freq=False)\n",
      "ax.psd(Signal-noisy_signal,label='Applied Noise',Fs=analog_rate,pad_to=1024,scale_by_freq=False)\n",
      "ax.psd(filtered,label='Tx+Noise+Offset+Filter',Fs=analog_rate,pad_to=1024,scale_by_freq=False)\n",
      "ax.set_title('PSD of Signal with RCOS={0}, OSNR={1}, Offset={2}GHz, AFE Fc={3}GHz'.format(0.1,7,5,28),fontsize=18)\n",
      "ax.legend()\n",
      "ax=pl.subplot(gs[1])\n",
      "ax=pl.hist(Signal-noisy_signal,40)\n",
      "pl.title('Histogram of AWGN',fontsize=18)\n",
      "ax=pl.subplot(gs[2])\n",
      "#ax.set_xlim(-6e11,6e11)\n",
      "ax.set_ylim(-70,10)\n",
      "Signal = gen_data_rx(0.1)\n",
      "noisy_signal = np.add(Signal,gen_noise(13))#noisy_signal=awgn(Signal,13/16)#np.add(noise,f2(xnew))\n",
      "offset_signal=offset_analog(0*1e9,noisy_signal)\n",
      "b, a = scipy.signal.butter(3, 2*35e9/analog_rate, 'low', analog=False)\n",
      "filtered = scipy.signal.filtfilt(b, a, offset_signal)\n",
      "ax.psd(Signal,label='Tx',Fs=analog_rate,scale_by_freq=False,pad_to=1024)\n",
      "ax.psd(noisy_signal,label='Tx+Noise',Fs=analog_rate,pad_to=1024,scale_by_freq=False)\n",
      "ax.psd(Signal-noisy_signal,label='Applied Noise',Fs=analog_rate,pad_to=1024,scale_by_freq=False)\n",
      "ax.psd(filtered,label='Tx+Noise+Offset+Filter',Fs=analog_rate,pad_to=1024,scale_by_freq=False)\n",
      "ax.set_title('PSD of Signal with RCOS={0}, OSNR={1}, Offset={2}GHz, AFE Fc={3}GHz'.format(0.1,13,0,35),fontsize=18)\n",
      "\n",
      "ax.legend()\n",
      "ax=pl.subplot(gs[3])\n",
      "ax=pl.hist(Signal-noisy_signal,40)\n",
      "pl.title('Histogram of AWGN',fontsize=18)\n",
      "pl.savefig('psd2.eps')\n",
      "\n",
      "pl.show()"
     ],
     "language": "python",
     "metadata": {},
     "outputs": [],
     "prompt_number": 455
    },
    {
     "cell_type": "code",
     "collapsed": false,
     "input": [
      "# Two subplots, the axes array is 1-d\n",
      "#pl.figure( figsize=(2.5*8, 2.5*6), dpi=80, facecolor='w', edgecolor='k')\n",
      "freqs = np.linspace(-5,5,11)\n",
      "for n in enumerate([7,10,13]):\n",
      "    f, axarr = pl.subplots(4,3, sharey=True,figsize=(3*8, 2*6), dpi=80, facecolor='w', edgecolor='k')\n",
      "    f.suptitle('Simulations results for SNR={0}'.format(n[1]),fontsize=18)\n",
      "    axarr[1][0].set_ylabel('Autocorrelation value Rx(0) - min[Rx(0)]',fontsize=18)\n",
      "    axarr[2][0].set_xlabel('Offset Freq[GHz]',fontsize=18)\n",
      "    axarr[2][1].set_xlabel('Offset Freq[GHz]',fontsize=18)\n",
      "    \n",
      "    for k in enumerate(rolloffs):\n",
      "        \n",
      "            axarr[k[0]][1].grid()\n",
      "            axarr[k[0]][1].set_title('Rolloff Factor: {:g}'.format(k[1]),fontsize=18)\n",
      "            for g in freqs:\n",
      "                axarr[k[0]][1].plot(freqs, stats[n[1]][afe_fc[0]][k[1]][g]-min(stats[n[1]][afe_fc[0]][k[1]][g]), 'rs-',label='{0}GHz'.format(afe_fc[0]/1e9))\n",
      "                axarr[k[0]][1].plot(freqs, stats[n[1]][afe_fc[1]][k[1]][g]-min(stats[n[1]][afe_fc[1]][k[1]][g]), 'bs-',label='{0}GHz'.format(afe_fc[1]/1e9))\n",
      "                axarr[k[0]][0].grid()\n",
      "                axarr[k[0]][0].set_title('Rolloff Factor: {:g}'.format(k[1]),fontsize=18)\n",
      "                axarr[k[0]][0].plot(freqs, stats[n[1]][afe_fc[2]][k[1]][g]-min(stats[n[1]][afe_fc[2]][k[1]][g]), 'gs-',label='{0}GHz'.format(afe_fc[2]/1e9))\n",
      "                axarr[k[0]][0].plot(freqs, stats[n[1]][afe_fc[3]][k[1]][g]-min(stats[n[1]][afe_fc[3]][k[1]][g]), 'ys-',label='{0}GHz'.format(afe_fc[3]/1e9))\n",
      "            \n",
      "            \n",
      "            # Make the y-axis label and tick labels match the line color.\n",
      "    handles, labels = axarr[k[0]][1].get_legend_handles_labels()\n",
      "    h2,l2= axarr[k[0]][0].get_legend_handles_labels()      \n",
      "    legend=f.legend(handles+h2,labels+l2,loc='m',title='AFE FC',fontsize=18)\n",
      "    legend.get_title().set_fontsize('18')\n",
      "    f.savefig('results_for_n_{0}.eps'.format(n[1]))\n",
      "\n",
      "pl.show()\n",
      "\n"
     ],
     "language": "python",
     "metadata": {},
     "outputs": [],
     "prompt_number": 616
    },
    {
     "cell_type": "code",
     "collapsed": false,
     "input": [
      "# Two subplots, the axes array is 1-d\n",
      "#pl.figure( figsize=(2.5*8, 2.5*6), dpi=80, facecolor='w', edgecolor='k')\n",
      "import itertools\n",
      "\n",
      "freqs = np.linspace(-5,5,11)\n",
      "for l in enumerate(freqs):\n",
      "    \n",
      "    f, axarr = pl.subplots(3,4, sharey=True,figsize=(3*8, 2*6), dpi=80, facecolor='w', edgecolor='k')\n",
      "    f.suptitle('Simulations results for Tx LO={0}GHz'.format(l[1]),fontsize=18)\n",
      "    axarr[1][0].set_ylabel('Autocorrelation value Rx(0) - min[Rx(0)]',fontsize=18)\n",
      "    axarr[2][0].set_xlabel('Rx Offset Freq[GHz]',fontsize=18)\n",
      "    axarr[2][1].set_xlabel('Rx Offset Freq[GHz]',fontsize=18)\n",
      "    axarr[2][2].set_xlabel('Rx Offset Freq[GHz]',fontsize=18)\n",
      "    axarr[2][3].set_xlabel('Rx Offset Freq[GHz]',fontsize=18)\n",
      "    for n in enumerate(afe_fc):\n",
      "        marker = itertools.cycle(('-*','-s','-d')) \n",
      "        for g in ([7,10,13]):\n",
      "            \n",
      "            used_marker=marker.next()\n",
      "            for h in enumerate(rolloffs):\n",
      "                axarr[h[0]][n[0]].grid()\n",
      "                \n",
      "                energy_line=list(stats[g][n[1]][h[1]][l[1]]-min(stats[g][n[1]][h[1]][l[1]]))\n",
      "                axarr[h[0]][n[0]].plot(freqs,energy_line, used_marker,label='OSNR={0}'.format(g,h[1],n))\n",
      "                axarr[h[0]][n[0]].set_title('AFE_FC={0:g}GHz, RCOS={1}'.format(n[1]/1e9,h[1]))\n",
      "                max_value = max(energy_line)\n",
      "                max_index = energy_line.index(max_value)\n",
      "                \n",
      "                if (freqs[max_index]==l[1]):\n",
      "                    axarr[h[0]][n[0]].annotate(\"Accurate correction\",xy=(l[1], energy_line[max_index]), xycoords='data',xytext=(0, 0.9), textcoords='axes fraction',\n",
      "                            arrowprops=dict(arrowstyle=\"->\",\n",
      "                            connectionstyle=\"arc3\"),) \n",
      "            \n",
      "            # Make the y-axis label and tick labels match the line color.\n",
      "    handles, labels = axarr[h[0]][n[0]].get_legend_handles_labels()\n",
      "    \n",
      "    legend=f.legend(handles,labels,loc='upper right',fontsize=10)\n",
      "    legend.get_title().set_fontsize('10')\n",
      "pl.show()\n",
      "\n"
     ],
     "language": "python",
     "metadata": {},
     "outputs": [],
     "prompt_number": 697
    },
    {
     "cell_type": "code",
     "collapsed": false,
     "input": [
      "stats[g[1]]"
     ],
     "language": "python",
     "metadata": {},
     "outputs": [
      {
       "ename": "TypeError",
       "evalue": "'int' object has no attribute '__getitem__'",
       "output_type": "pyerr",
       "traceback": [
        "\u001b[0;31m---------------------------------------------------------------------------\u001b[0m\n\u001b[0;31mTypeError\u001b[0m                                 Traceback (most recent call last)",
        "\u001b[0;32m<ipython-input-634-e4798dc12c91>\u001b[0m in \u001b[0;36m<module>\u001b[0;34m()\u001b[0m\n\u001b[0;32m----> 1\u001b[0;31m \u001b[0mstats\u001b[0m\u001b[0;34m[\u001b[0m\u001b[0mg\u001b[0m\u001b[0;34m[\u001b[0m\u001b[0;36m1\u001b[0m\u001b[0;34m]\u001b[0m\u001b[0;34m]\u001b[0m\u001b[0;34m\u001b[0m\u001b[0m\n\u001b[0m",
        "\u001b[0;31mTypeError\u001b[0m: 'int' object has no attribute '__getitem__'"
       ]
      }
     ],
     "prompt_number": 634
    },
    {
     "cell_type": "code",
     "collapsed": false,
     "input": [
      "\n",
      "import matplotlib.pyplot as pl\n",
      "from mpl_toolkits.mplot3d import Axes3D\n",
      "fig = pl.figure()\n",
      "ax = fig.add_subplot(111, projection='3d')\n",
      "teapot = stats[13][afe_fc[1]][0.1]\n",
      "for i,j in teapot.items():\n",
      "    ax.plot([0,0],[i,i],zs=[j[0],j[0]])\n",
      "pl.show()\n",
      "Axes3D.plot()"
     ],
     "language": "python",
     "metadata": {},
     "outputs": [
      {
       "ename": "TypeError",
       "evalue": "unbound method plot() must be called with Axes3D instance as first argument (got nothing instead)",
       "output_type": "pyerr",
       "traceback": [
        "\u001b[0;31m---------------------------------------------------------------------------\u001b[0m\n\u001b[0;31mTypeError\u001b[0m                                 Traceback (most recent call last)",
        "\u001b[0;32m<ipython-input-615-72c09807366b>\u001b[0m in \u001b[0;36m<module>\u001b[0;34m()\u001b[0m\n\u001b[1;32m      8\u001b[0m     \u001b[0max\u001b[0m\u001b[0;34m.\u001b[0m\u001b[0mplot\u001b[0m\u001b[0;34m(\u001b[0m\u001b[0;34m[\u001b[0m\u001b[0;36m0\u001b[0m\u001b[0;34m,\u001b[0m\u001b[0;36m0\u001b[0m\u001b[0;34m]\u001b[0m\u001b[0;34m,\u001b[0m\u001b[0;34m[\u001b[0m\u001b[0mi\u001b[0m\u001b[0;34m,\u001b[0m\u001b[0mi\u001b[0m\u001b[0;34m]\u001b[0m\u001b[0;34m,\u001b[0m\u001b[0mzs\u001b[0m\u001b[0;34m=\u001b[0m\u001b[0;34m[\u001b[0m\u001b[0mj\u001b[0m\u001b[0;34m[\u001b[0m\u001b[0;36m0\u001b[0m\u001b[0;34m]\u001b[0m\u001b[0;34m,\u001b[0m\u001b[0mj\u001b[0m\u001b[0;34m[\u001b[0m\u001b[0;36m0\u001b[0m\u001b[0;34m]\u001b[0m\u001b[0;34m]\u001b[0m\u001b[0;34m)\u001b[0m\u001b[0;34m\u001b[0m\u001b[0m\n\u001b[1;32m      9\u001b[0m \u001b[0mpl\u001b[0m\u001b[0;34m.\u001b[0m\u001b[0mshow\u001b[0m\u001b[0;34m(\u001b[0m\u001b[0;34m)\u001b[0m\u001b[0;34m\u001b[0m\u001b[0m\n\u001b[0;32m---> 10\u001b[0;31m \u001b[0mAxes3D\u001b[0m\u001b[0;34m.\u001b[0m\u001b[0mplot\u001b[0m\u001b[0;34m(\u001b[0m\u001b[0;34m)\u001b[0m\u001b[0;34m\u001b[0m\u001b[0m\n\u001b[0m",
        "\u001b[0;31mTypeError\u001b[0m: unbound method plot() must be called with Axes3D instance as first argument (got nothing instead)"
       ]
      }
     ],
     "prompt_number": 615
    },
    {
     "cell_type": "code",
     "collapsed": false,
     "input": [
      "from scipy.signal.resample"
     ],
     "language": "python",
     "metadata": {},
     "outputs": []
    },
    {
     "cell_type": "code",
     "collapsed": false,
     "input": [
      "from scipy.signal.decimate"
     ],
     "language": "python",
     "metadata": {},
     "outputs": []
    }
   ],
   "metadata": {}
  }
 ]
}