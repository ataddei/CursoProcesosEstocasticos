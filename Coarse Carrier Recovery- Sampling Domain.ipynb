{
 "metadata": {
  "name": "Coarse Carrier Recovery- Sampling Domain"
 },
 "nbformat": 3,
 "nbformat_minor": 0,
 "worksheets": [
  {
   "cells": [
    {
     "cell_type": "code",
     "collapsed": false,
     "input": [
      "import scipy.signal\n",
      "import matplotlib\n",
      "import matplotlib.pyplot as pl\n",
      "import numpy as np\n",
      "import itertools\n",
      "from commpy.filters import rrcosfilter\n",
      "import scipy.interpolate\n",
      "from scipy.interpolate import interp1d\n",
      "from commpy.channels import awgn\n"
     ],
     "language": "python",
     "metadata": {},
     "outputs": [],
     "prompt_number": 1
    },
    {
     "cell_type": "heading",
     "level": 1,
     "metadata": {},
     "source": [
      "Generaci\u00f3n de Datos"
     ]
    },
    {
     "cell_type": "raw",
     "metadata": {},
     "source": [
      "Defino Baud Rate, analog rate, y una frecuencia de ADC target. Genero N cantidad de bits e intercalo 1 cero, luego filtro con RCOS para tener 2 muestras por simbolo. Hago lo mismo para la parte real e imaginaria"
     ]
    },
    {
     "cell_type": "code",
     "collapsed": false,
     "input": [
      "\n",
      "BR=33e9\n",
      "analog_rate=16*BR\n",
      "fix_adc_rate1=5/3*BR\n",
      "import random\n",
      "N_data = int(10*1024)\n",
      "\n",
      "def gen_data_rx(alfa=0.1):\n",
      "    data = np.array([complex(2*random.randint(0,1)-1,2*random.randint(0,1)-1) for i in xrange(N_data)])\n",
      "    data_zeros = np.zeros((N_data*16,1),dtype=complex).flatten()\n",
      "    data_zeros[1::16] = data    \n",
      "    rcos_filter = rrcosfilter(64,alfa,1/BR,16*BR)[1]\n",
      "    power_of_filter = np.sqrt(np.sum([ np.square(j) for j in rcos_filter]))\n",
      "    rcos_filter = rcos_filter/power_of_filter\n",
      "    data_interp = np.convolve(rcos_filter, data_zeros,'same')\n",
      "    return data_interp\n",
      "\n",
      "def gen_noise(SNRdb=13):\n",
      "    sigma_noise = 1/np.sqrt(10**(SNRdb/10.0))\n",
      "    noise = np.array([complex(np.random.normal(scale=sigma_noise),np.random.normal(scale=sigma_noise)) for i in xrange(N_data*16)])\n",
      "    return noise\n",
      "    \n",
      "Signal = gen_data_rx(0.1)\n",
      "Noise=gen_noise()\n",
      "#pl.psd(Signal)\n",
      "#pl.psd(Noise)\n",
      "pl.psd(np.add(Signal,Noise))\n",
      "pl.show()"
     ],
     "language": "python",
     "metadata": {},
     "outputs": [],
     "prompt_number": 2
    },
    {
     "cell_type": "code",
     "collapsed": false,
     "input": [
      "rcos_filter=rrcosfilter(64,0.1,1/BR,16*BR)[1]\n",
      "print np.array([complex(2*random.randint(0,1)-1,2*random.randint(0,1)-1) for i in xrange(N_data)])"
     ],
     "language": "python",
     "metadata": {},
     "outputs": [
      {
       "output_type": "stream",
       "stream": "stdout",
       "text": [
        "[ 1.+1.j -1.-1.j  1.-1.j ...,  1.-1.j  1.-1.j -1.-1.j]\n"
       ]
      }
     ],
     "prompt_number": 434
    },
    {
     "cell_type": "heading",
     "level": 2,
     "metadata": {},
     "source": [
      "Genero Filtro AFE"
     ]
    },
    {
     "cell_type": "code",
     "collapsed": false,
     "input": [
      "b, a = scipy.signal.butter(3, (BR/2)/(analog_rate/2), 'low', analog=False)\n",
      "w, h = scipy.signal.freqz(b, a,)\n",
      "pl.plot(w*analog_rate/(2*np.pi), 20 * np.log10(abs(h)))\n",
      "pl.figure()\n",
      "filtered = scipy.signal.filtfilt(b, a, Signal)\n",
      "pl.psd(Signal,Fs=analog_rate)\n",
      "pl.psd(filtered,Fs=analog_rate)\n",
      "pl.show()"
     ],
     "language": "python",
     "metadata": {},
     "outputs": [],
     "prompt_number": 14
    },
    {
     "cell_type": "heading",
     "level": 2,
     "metadata": {},
     "source": [
      "Genero funciones de procesamientro"
     ]
    },
    {
     "cell_type": "raw",
     "metadata": {},
     "source": [
      "transmit para generar simbolos complejos y offset_analog para offset de portadora compleja"
     ]
    },
    {
     "cell_type": "code",
     "collapsed": false,
     "input": [
      "def offset_analog(offset,data):\n",
      "    complex_lo_tx=[ complex(np.cos(2*np.pi*offset*phi/analog_rate),np.sin(2*np.pi*offset*phi/analog_rate)) for phi in xrange(len(data)) ] # 1GHz\n",
      "    return np.multiply(complex_lo_tx,data)"
     ],
     "language": "python",
     "metadata": {},
     "outputs": [],
     "prompt_number": 8
    },
    {
     "cell_type": "code",
     "collapsed": false,
     "input": [
      "def offset_digital(offset,data):\n",
      "    complex_lo_rx=[ complex(np.cos(2*np.pi*offset*phi/fix_adc_rate1),-np.sin(2*np.pi*offset*phi/fix_adc_rate1)) for phi in xrange(len(data)) ] # 1GHz\n",
      "    return np.multiply(complex_lo_rx,data)"
     ],
     "language": "python",
     "metadata": {},
     "outputs": [],
     "prompt_number": 9
    },
    {
     "cell_type": "heading",
     "level": 2,
     "metadata": {},
     "source": [
      "Inicio transmision"
     ]
    },
    {
     "cell_type": "heading",
     "level": 3,
     "metadata": {},
     "source": [
      "Sobremuestreo las 2 muestras por simbolo a 16 muestras por simbolo con interpolacion"
     ]
    },
    {
     "cell_type": "heading",
     "level": 3,
     "metadata": {},
     "source": [
      "Agredo ruido y filtro con AFE"
     ]
    },
    {
     "cell_type": "heading",
     "level": 3,
     "metadata": {},
     "source": [
      "Pongo offset y filtro con AFE"
     ]
    },
    {
     "cell_type": "heading",
     "level": 2,
     "metadata": {},
     "source": [
      "Sampling"
     ]
    },
    {
     "cell_type": "code",
     "collapsed": false,
     "input": [
      "from fractions import Fraction\n",
      "a=Fraction(fix_adc_rate/analog_rate)\n",
      "sampled_data=scipy.signal.resample(filtered,int(float(len(Signal))*a))\n",
      "pl.plot(abs(np.fft.fft(sampled_data,1024)),'-dr')\n",
      "pl.show()"
     ],
     "language": "python",
     "metadata": {},
     "outputs": [
      {
       "ename": "NameError",
       "evalue": "name 'fix_adc_rate' is not defined",
       "output_type": "pyerr",
       "traceback": [
        "\u001b[0;31m---------------------------------------------------------------------------\u001b[0m\n\u001b[0;31mNameError\u001b[0m                                 Traceback (most recent call last)",
        "\u001b[0;32m<ipython-input-3-26632cc59060>\u001b[0m in \u001b[0;36m<module>\u001b[0;34m()\u001b[0m\n\u001b[1;32m      1\u001b[0m \u001b[0;32mfrom\u001b[0m \u001b[0mfractions\u001b[0m \u001b[0;32mimport\u001b[0m \u001b[0mFraction\u001b[0m\u001b[0;34m\u001b[0m\u001b[0m\n\u001b[0;32m----> 2\u001b[0;31m \u001b[0ma\u001b[0m\u001b[0;34m=\u001b[0m\u001b[0mFraction\u001b[0m\u001b[0;34m(\u001b[0m\u001b[0mfix_adc_rate\u001b[0m\u001b[0;34m/\u001b[0m\u001b[0manalog_rate\u001b[0m\u001b[0;34m)\u001b[0m\u001b[0;34m\u001b[0m\u001b[0m\n\u001b[0m\u001b[1;32m      3\u001b[0m \u001b[0msampled_data\u001b[0m\u001b[0;34m=\u001b[0m\u001b[0mscipy\u001b[0m\u001b[0;34m.\u001b[0m\u001b[0msignal\u001b[0m\u001b[0;34m.\u001b[0m\u001b[0mresample\u001b[0m\u001b[0;34m(\u001b[0m\u001b[0mfiltered\u001b[0m\u001b[0;34m,\u001b[0m\u001b[0mint\u001b[0m\u001b[0;34m(\u001b[0m\u001b[0mfloat\u001b[0m\u001b[0;34m(\u001b[0m\u001b[0mlen\u001b[0m\u001b[0;34m(\u001b[0m\u001b[0mSignal\u001b[0m\u001b[0;34m)\u001b[0m\u001b[0;34m)\u001b[0m\u001b[0;34m*\u001b[0m\u001b[0ma\u001b[0m\u001b[0;34m)\u001b[0m\u001b[0;34m)\u001b[0m\u001b[0;34m\u001b[0m\u001b[0m\n\u001b[1;32m      4\u001b[0m \u001b[0mpl\u001b[0m\u001b[0;34m.\u001b[0m\u001b[0mplot\u001b[0m\u001b[0;34m(\u001b[0m\u001b[0mabs\u001b[0m\u001b[0;34m(\u001b[0m\u001b[0mnp\u001b[0m\u001b[0;34m.\u001b[0m\u001b[0mfft\u001b[0m\u001b[0;34m.\u001b[0m\u001b[0mfft\u001b[0m\u001b[0;34m(\u001b[0m\u001b[0msampled_data\u001b[0m\u001b[0;34m,\u001b[0m\u001b[0;36m1024\u001b[0m\u001b[0;34m)\u001b[0m\u001b[0;34m)\u001b[0m\u001b[0;34m,\u001b[0m\u001b[0;34m'-dr'\u001b[0m\u001b[0;34m)\u001b[0m\u001b[0;34m\u001b[0m\u001b[0m\n\u001b[1;32m      5\u001b[0m \u001b[0mpl\u001b[0m\u001b[0;34m.\u001b[0m\u001b[0mshow\u001b[0m\u001b[0;34m(\u001b[0m\u001b[0;34m)\u001b[0m\u001b[0;34m\u001b[0m\u001b[0m\n",
        "\u001b[0;31mNameError\u001b[0m: name 'fix_adc_rate' is not defined"
       ]
      }
     ],
     "prompt_number": 3
    },
    {
     "cell_type": "code",
     "collapsed": false,
     "input": [
      "def calc_dpm_error(data,mask_width=0.2,mask_pos=0.6):\n",
      "    N0=int(round(64/2*mask_pos)-round(mask_width*64/2))\n",
      "    N1=int(round(64/2*mask_pos)+round(mask_width*64/2))\n",
      "    N2= 64-N1\n",
      "    N3= 64-N0\n",
      "    spectrum = np.fft.fft(data,64)\n",
      "\n",
      "    error_signal=(np.sum(np.square(np.abs(spectrum[N0:N1+1]))) - np.sum(np.square(np.abs(spectrum[N2:N3+1]))))\n",
      "    return error_signal"
     ],
     "language": "python",
     "metadata": {},
     "outputs": [],
     "prompt_number": 4
    },
    {
     "cell_type": "heading",
     "level": 1,
     "metadata": {},
     "source": [
      "Loop DPM \n",
      "\n"
     ]
    },
    {
     "cell_type": "code",
     "collapsed": false,
     "input": [
      "freqs = np.linspace(0,5,6)\n",
      "\n",
      "rolloffs = [0.1,0.2,0.5]\n",
      "afe_fc = np.linspace(18e9,35e9,3)\n",
      "SamplingFraction1 = Fraction(5,3)\n",
      "SamplingFraction2 = Fraction(4,3)\n",
      "\n",
      "fix_adc_rate1 = BR*SamplingFraction1\n",
      "correction_factors=[.50,.89,.96]\n",
      "#correction_factors=[1.,1.,1.]\n",
      "\n",
      "fix_adc_rate2 = BR*SamplingFraction2\n",
      "frac_rate1 = Fraction(fix_adc_rate1/analog_rate)\n",
      "frac_rate2 = Fraction(fix_adc_rate2/fix_adc_rate1)\n",
      "stats2=stats\n",
      "stats = {}\n",
      "system=[1,2,3]\n",
      "N_data = int(18*1024)\n",
      "for n in system:\n",
      "    stats[n]={}\n",
      "    #fig = pl.figure()\n",
      "    for k in enumerate(afe_fc):\n",
      "        #pl.figure()\n",
      "        stats[n][k[1]]={}\n",
      "        b, a = scipy.signal.butter(3, 2*k[1]/analog_rate, 'low', analog=False)\n",
      "        for i in rolloffs:\n",
      "            \n",
      "            \n",
      "            stats[n][k[1]][i] = []\n",
      "            variances = []\n",
      "            \n",
      "            \n",
      "            rx_rcos_filter = rrcosfilter(64,i,1/BR,fix_adc_rate1)[1]\n",
      "            power_of_filter = np.sqrt(np.sum([ np.square(j) for j in rx_rcos_filter]))\n",
      "            rx_rcos_filter = rx_rcos_filter/power_of_filter\n",
      "            for j in freqs:\n",
      "                Signal = gen_data_rx(i)\n",
      "                noisy_signal = np.add(Signal,gen_noise(8))#np.add(noise,f2(xnew))\n",
      "                correlations = []\n",
      "                offset_signal = offset_analog(j*1e9,noisy_signal)\n",
      "                filtered = scipy.signal.filtfilt(b, a, offset_signal)\n",
      "                sampled_data = scipy.signal.resample(filtered,int(float(len(Signal))*frac_rate1))\n",
      "                #stats[n][k][i]=[]\n",
      "                error=[]\n",
      "                accum=0\n",
      "                instant_error=0\n",
      "                for l in range(len(sampled_data)/64):\n",
      "                    if (l<80):\n",
      "                        gain=1396400\n",
      "                    else:\n",
      "                        gain=256400\n",
      "                    \n",
      "                    accum=accum+instant_error*gain\n",
      "                    parallel_samples=sampled_data[l*64:(l+1)*64]\n",
      "                    rotated_parallel_samples = offset_digital(accum*correction_factors[k[0]],parallel_samples)\n",
      "                    if (n == 1):\n",
      "                        filtered2 = np.convolve(rx_rcos_filter, rotated_parallel_samples,'same')\n",
      "                        sampled_data2 = scipy.signal.resample(filtered2,int(float(len(filtered2))*frac_rate2))\n",
      "                        instant_error=calc_dpm_error(list(sampled_data2),mask_pos=1/SamplingFraction2)\n",
      "                        \n",
      "                    elif ( n == 2):\n",
      "                        instant_error=calc_dpm_error(list(rotated_parallel_samples),mask_pos=1/SamplingFraction1)\n",
      "                        \n",
      "                    else:\n",
      "                        filtered2 = np.convolve(rx_rcos_filter, rotated_parallel_samples,'same')\n",
      "                        instant_error=calc_dpm_error(list(filtered2),mask_pos=1/SamplingFraction1)\n",
      "                        \n",
      "                        \n",
      "                    error.append(accum)\n",
      "                #pl.plot(error,label=str(j)+str(n)+str(i))\n",
      "                stats[n][k[1]][i].append(error)\n"
     ],
     "language": "python",
     "metadata": {},
     "outputs": [],
     "prompt_number": 62
    },
    {
     "cell_type": "code",
     "collapsed": false,
     "input": [
      "pl.psd(filtered2)\n",
      "pl.show()"
     ],
     "language": "python",
     "metadata": {},
     "outputs": [],
     "prompt_number": 46
    },
    {
     "cell_type": "code",
     "collapsed": false,
     "input": [
      "fix_adc_rate"
     ],
     "language": "python",
     "metadata": {},
     "outputs": [
      {
       "output_type": "pyout",
       "prompt_number": 387,
       "text": [
        "55000000000.0"
       ]
      }
     ],
     "prompt_number": 387
    },
    {
     "cell_type": "code",
     "collapsed": false,
     "input": [
      "# Two subplots, the axes array is 1-d\n",
      "#pl.figure( figsize=(2.5*8, 2.5*6), dpi=80, facecolor='w', edgecolor='k')\n",
      "import itertools\n",
      "system=range(1,4)\n",
      "\n",
      "sys_labels=[\"1\",\"2 A\", \"2 B\"]  \n",
      "for g in system:\n",
      "    \n",
      "    f, axarr = pl.subplots(3,3, sharey=False,figsize=(3*8, 2*6), dpi=80, facecolor='w', edgecolor='k')\n",
      "    f.suptitle('Simulations results for CCR @8dB SNR for system {0}'.format(sys_labels[g-1]),fontsize=16)\n",
      "    axarr[1][0].set_ylabel('Frequency Recovered [Hz]',fontsize=16)\n",
      "    axarr[2][0].set_xlabel('Clock cycles',fontsize=16)\n",
      "    axarr[2][1].set_xlabel('Clock cycles',fontsize=16)\n",
      "    axarr[2][2].set_xlabel('Clock cycles',fontsize=16)\n",
      "        \n",
      "    for n in enumerate(afe_fc):\n",
      "         \n",
      "        for m in ([15]):\n",
      "            for h in enumerate(rolloffs):\n",
      "                axarr[h[0]][n[0]].grid()\n",
      "                energy_line=stats[g][n[1]][h[1]]\n",
      "                for l in enumerate(freqs):\n",
      "\n",
      "                    axarr[h[0]][n[0]].plot(energy_line[l[0]],color=pl.cm.rainbow((l[0]+5)/10.0),label='{0}GHz'.format(l[1]))\n",
      "                    axarr[h[0]][n[0]].set_title('AFE_FC={0:g}GHz, RCOS={1}, CF={2}'.format(n[1]/1e9,h[1],correction_factors[n[0]]))\n",
      "                    axarr[h[0]][n[0]].set_ylim([-1e9, 6e9])\n",
      "                \n",
      "                # Make the y-axis label and tick labels match the line color.\n",
      "        handles, labels = axarr[h[0]][n[0]].get_legend_handles_labels()\n",
      "        \n",
      "        legend=f.legend(handles,labels,loc='upper right',fontsize=14)\n",
      "        legend.set_title('Tx LO')\n",
      "        legend.get_title().set_fontsize('16')\n",
      "        pl.savefig('results_system_{0}_long_run_pos_freq_cf.eps'.format(g))\n",
      "pl.show()\n",
      "\n"
     ],
     "language": "python",
     "metadata": {},
     "outputs": [],
     "prompt_number": 63
    },
    {
     "cell_type": "code",
     "collapsed": false,
     "input": [
      "range(1,4)"
     ],
     "language": "python",
     "metadata": {},
     "outputs": [
      {
       "output_type": "pyout",
       "prompt_number": 191,
       "text": [
        "[1, 2, 3]"
       ]
      }
     ],
     "prompt_number": 191
    },
    {
     "cell_type": "heading",
     "level": 1,
     "metadata": {},
     "source": [
      "Figura de repeticions con Histogramas"
     ]
    },
    {
     "cell_type": "code",
     "collapsed": false,
     "input": [
      "# Two subplots, the axes array is 1-d\n",
      "#pl.figure( figsize=(2.5*8, 2.5*6), dpi=80, facecolor='w', edgecolor='k')\n",
      "import itertools\n",
      "import matplotlib.gridspec as gridspec\n",
      "gs = gridspec.GridSpec(3, 2,\n",
      "                       width_ratios=[3,1],\n",
      "                       height_ratios=[1,1,1])\n",
      "\n",
      "\n",
      "system=range(1,4)\n",
      "f = pl.figure(figsize=(3*8, 2*6), dpi=80, facecolor='w', edgecolor='k')\n",
      "\n",
      "f.suptitle('Simulations results for CCR @8dB SNR and Tx LO=5GHz',fontsize=16)\n",
      "sys_labels=[\"1\",\"2 A\", \"2 B\"]  \n",
      "for g in system:\n",
      "    \n",
      "         \n",
      "    for n in enumerate(afe_fc):\n",
      "        ax= pl.subplot(gs[2*(g-1)],)\n",
      "        ax.grid()\n",
      "        for m in ([15]):\n",
      "            for h in enumerate(rolloffs):\n",
      "                \n",
      "                energy_line=stats[g][n[1]][h[1]]\n",
      "                last_freq=[]\n",
      "                for l in enumerate(freqs):\n",
      "                                        \n",
      "                    last_freq.extend(energy_line[l[0]][-1:])\n",
      "                    ax.plot(energy_line[l[0]],alpha=0.2,color='r',label='{0}GHz'.format(l[1]))\n",
      "                    ax.set_title('AFE_FC={0:g}GHz, RCOS={1}, System {2}'.format(n[1]/1e9,h[1],sys_labels[g-1]))\n",
      "                    \n",
      "                    ax.set_ylabel('Frequency recovered [Hz]')\n",
      "                    #axarr[h[0]][n[0]].set_ylim([-6e9, 1e9])\n",
      "                #ax.set_rasterized(True)\n",
      "\n",
      "                ax= pl.subplot(gs[2*(g-1)+1])\n",
      "                ax.set_title('Histogram of final frequency System {0}'.format(sys_labels[g-1]))\n",
      "                \n",
      "                ax.hist(last_freq,15,range=[4.5e9,5.5e9],)\n",
      "                ax.set_ylim([0,40])\n",
      "                # Make the y-axis label and tick labels match the line color.\n",
      "        \n",
      "\n",
      "ax=pl.subplot(gs[4])\n",
      "ax.set_xlabel('Clock cycles')\n",
      "\n",
      "ax=pl.subplot(gs[5])\n",
      "ax.set_xlabel('Last Frequency [GHz]')\n",
      "pl.savefig('result_repetition_systems.eps')\n",
      "pl.show()\n",
      "\n"
     ],
     "language": "python",
     "metadata": {},
     "outputs": [],
     "prompt_number": 25
    },
    {
     "cell_type": "code",
     "collapsed": false,
     "input": [
      "stats[g[1]]"
     ],
     "language": "python",
     "metadata": {},
     "outputs": [
      {
       "ename": "TypeError",
       "evalue": "'int' object has no attribute '__getitem__'",
       "output_type": "pyerr",
       "traceback": [
        "\u001b[0;31m---------------------------------------------------------------------------\u001b[0m\n\u001b[0;31mTypeError\u001b[0m                                 Traceback (most recent call last)",
        "\u001b[0;32m<ipython-input-634-e4798dc12c91>\u001b[0m in \u001b[0;36m<module>\u001b[0;34m()\u001b[0m\n\u001b[0;32m----> 1\u001b[0;31m \u001b[0mstats\u001b[0m\u001b[0;34m[\u001b[0m\u001b[0mg\u001b[0m\u001b[0;34m[\u001b[0m\u001b[0;36m1\u001b[0m\u001b[0;34m]\u001b[0m\u001b[0;34m]\u001b[0m\u001b[0;34m\u001b[0m\u001b[0m\n\u001b[0m",
        "\u001b[0;31mTypeError\u001b[0m: 'int' object has no attribute '__getitem__'"
       ]
      }
     ],
     "prompt_number": 634
    },
    {
     "cell_type": "code",
     "collapsed": false,
     "input": [
      "\n",
      "import matplotlib.pyplot as pl\n",
      "from mpl_toolkits.mplot3d import Axes3D\n",
      "fig = pl.figure()\n",
      "ax = fig.add_subplot(111, projection='3d')\n",
      "teapot = stats[13][afe_fc[1]][0.1]\n",
      "for i,j in teapot.items():\n",
      "    ax.plot([0,0],[i,i],zs=[j[0],j[0]])\n",
      "pl.show()\n",
      "Axes3D.plot()"
     ],
     "language": "python",
     "metadata": {},
     "outputs": [
      {
       "ename": "TypeError",
       "evalue": "unbound method plot() must be called with Axes3D instance as first argument (got nothing instead)",
       "output_type": "pyerr",
       "traceback": [
        "\u001b[0;31m---------------------------------------------------------------------------\u001b[0m\n\u001b[0;31mTypeError\u001b[0m                                 Traceback (most recent call last)",
        "\u001b[0;32m<ipython-input-615-72c09807366b>\u001b[0m in \u001b[0;36m<module>\u001b[0;34m()\u001b[0m\n\u001b[1;32m      8\u001b[0m     \u001b[0max\u001b[0m\u001b[0;34m.\u001b[0m\u001b[0mplot\u001b[0m\u001b[0;34m(\u001b[0m\u001b[0;34m[\u001b[0m\u001b[0;36m0\u001b[0m\u001b[0;34m,\u001b[0m\u001b[0;36m0\u001b[0m\u001b[0;34m]\u001b[0m\u001b[0;34m,\u001b[0m\u001b[0;34m[\u001b[0m\u001b[0mi\u001b[0m\u001b[0;34m,\u001b[0m\u001b[0mi\u001b[0m\u001b[0;34m]\u001b[0m\u001b[0;34m,\u001b[0m\u001b[0mzs\u001b[0m\u001b[0;34m=\u001b[0m\u001b[0;34m[\u001b[0m\u001b[0mj\u001b[0m\u001b[0;34m[\u001b[0m\u001b[0;36m0\u001b[0m\u001b[0;34m]\u001b[0m\u001b[0;34m,\u001b[0m\u001b[0mj\u001b[0m\u001b[0;34m[\u001b[0m\u001b[0;36m0\u001b[0m\u001b[0;34m]\u001b[0m\u001b[0;34m]\u001b[0m\u001b[0;34m)\u001b[0m\u001b[0;34m\u001b[0m\u001b[0m\n\u001b[1;32m      9\u001b[0m \u001b[0mpl\u001b[0m\u001b[0;34m.\u001b[0m\u001b[0mshow\u001b[0m\u001b[0;34m(\u001b[0m\u001b[0;34m)\u001b[0m\u001b[0;34m\u001b[0m\u001b[0m\n\u001b[0;32m---> 10\u001b[0;31m \u001b[0mAxes3D\u001b[0m\u001b[0;34m.\u001b[0m\u001b[0mplot\u001b[0m\u001b[0;34m(\u001b[0m\u001b[0;34m)\u001b[0m\u001b[0;34m\u001b[0m\u001b[0m\n\u001b[0m",
        "\u001b[0;31mTypeError\u001b[0m: unbound method plot() must be called with Axes3D instance as first argument (got nothing instead)"
       ]
      }
     ],
     "prompt_number": 615
    },
    {
     "cell_type": "code",
     "collapsed": false,
     "input": [
      "from scipy.signal.resample"
     ],
     "language": "python",
     "metadata": {},
     "outputs": []
    },
    {
     "cell_type": "code",
     "collapsed": false,
     "input": [
      "from scipy.signal.decimate"
     ],
     "language": "python",
     "metadata": {},
     "outputs": []
    }
   ],
   "metadata": {}
  }
 ]
}